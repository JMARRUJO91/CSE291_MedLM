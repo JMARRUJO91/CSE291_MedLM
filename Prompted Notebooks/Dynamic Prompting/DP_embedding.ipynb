{
 "cells": [
  {
   "attachments": {},
   "cell_type": "markdown",
   "id": "2853db3d",
   "metadata": {},
   "source": [
    "# Importing Data"
   ]
  },
  {
   "attachments": {},
   "cell_type": "markdown",
   "id": "dcaa872d",
   "metadata": {},
   "source": [
    "## Loading the preprocessed medquad data"
   ]
  },
  {
   "cell_type": "code",
   "execution_count": 74,
   "id": "cf656c1f",
   "metadata": {},
   "outputs": [],
   "source": [
    "# load medQuad preprocessed dataset\n",
    "import json\n",
    "\n",
    "# Open the JSON file\n",
    "with open(\"train.json\", 'r') as f:\n",
    "    # Load the contents of the file into a variable\n",
    "    json_data = f.read()\n",
    "\n",
    "# Parse the JSON data into a Python dictionary\n",
    "dataset_raw = json.loads(json_data)"
   ]
  },
  {
   "cell_type": "code",
   "execution_count": 75,
   "id": "1b118648",
   "metadata": {},
   "outputs": [
    {
     "name": "stdout",
     "output_type": "stream",
     "text": [
      "<class 'dict'>\n"
     ]
    }
   ],
   "source": [
    "print(type(dataset_raw))"
   ]
  },
  {
   "cell_type": "code",
   "execution_count": 76,
   "id": "568205f0",
   "metadata": {},
   "outputs": [
    {
     "data": {
      "text/plain": [
       "<function dict.keys>"
      ]
     },
     "execution_count": 76,
     "metadata": {},
     "output_type": "execute_result"
    }
   ],
   "source": [
    "dataset_raw.keys"
   ]
  },
  {
   "attachments": {},
   "cell_type": "markdown",
   "id": "38f58030",
   "metadata": {},
   "source": [
    "## Creating a questions dictionary (lookup table)"
   ]
  },
  {
   "cell_type": "code",
   "execution_count": 77,
   "id": "c99755cd",
   "metadata": {},
   "outputs": [],
   "source": [
    "questions = {}\n",
    "for k in dataset_raw:\n",
    "  for qa in range(len(dataset_raw[k][\"QAs\"])):\n",
    "    questions[str(dataset_raw[k][\"QAs\"][qa][\"question\"])] = str(dataset_raw[k][\"QAs\"][qa][\"answer\"])"
   ]
  },
  {
   "cell_type": "code",
   "execution_count": 78,
   "id": "9267721e",
   "metadata": {},
   "outputs": [
    {
     "name": "stdout",
     "output_type": "stream",
     "text": [
      "12629\n"
     ]
    },
    {
     "data": {
      "text/plain": [
       "'This condition is inherited in an autosomal recessive pattern, which means both copies of the gene in each cell have mutations. The parents of an individual with an autosomal recessive condition each carry one copy of the mutated gene, but they typically do not show signs and symptoms of the condition.'"
      ]
     },
     "execution_count": 78,
     "metadata": {},
     "output_type": "execute_result"
    }
   ],
   "source": [
    "print(len(questions))\n",
    "questions[\"Is Gitelman syndrome inherited ?\"]"
   ]
  },
  {
   "attachments": {},
   "cell_type": "markdown",
   "id": "962c9a23",
   "metadata": {},
   "source": [
    "# Embedding Starts"
   ]
  },
  {
   "cell_type": "code",
   "execution_count": 34,
   "id": "1709b316",
   "metadata": {},
   "outputs": [],
   "source": [
    "from InstructorEmbedding import INSTRUCTOR"
   ]
  },
  {
   "attachments": {},
   "cell_type": "markdown",
   "id": "5544e951",
   "metadata": {},
   "source": [
    "## Load the instructOR embeddor model"
   ]
  },
  {
   "cell_type": "code",
   "execution_count": 35,
   "id": "1b9a1f6a",
   "metadata": {},
   "outputs": [
    {
     "data": {
      "application/vnd.jupyter.widget-view+json": {
       "model_id": "6af49061ee5340709bb85f7c431f810a",
       "version_major": 2,
       "version_minor": 0
      },
      "text/plain": [
       "Downloading (…)c7233/.gitattributes:   0%|          | 0.00/1.48k [00:00<?, ?B/s]"
      ]
     },
     "metadata": {},
     "output_type": "display_data"
    },
    {
     "data": {
      "application/vnd.jupyter.widget-view+json": {
       "model_id": "08e81f5d1510477c8510f5dc030d2db8",
       "version_major": 2,
       "version_minor": 0
      },
      "text/plain": [
       "Downloading (…)_Pooling/config.json:   0%|          | 0.00/270 [00:00<?, ?B/s]"
      ]
     },
     "metadata": {},
     "output_type": "display_data"
    },
    {
     "data": {
      "application/vnd.jupyter.widget-view+json": {
       "model_id": "6af2e498f7784f6a9ede995c0b1fab78",
       "version_major": 2,
       "version_minor": 0
      },
      "text/plain": [
       "Downloading (…)/2_Dense/config.json:   0%|          | 0.00/116 [00:00<?, ?B/s]"
      ]
     },
     "metadata": {},
     "output_type": "display_data"
    },
    {
     "data": {
      "application/vnd.jupyter.widget-view+json": {
       "model_id": "8675633043264552a7b85427e0049d84",
       "version_major": 2,
       "version_minor": 0
      },
      "text/plain": [
       "Downloading pytorch_model.bin:   0%|          | 0.00/3.15M [00:00<?, ?B/s]"
      ]
     },
     "metadata": {},
     "output_type": "display_data"
    },
    {
     "data": {
      "application/vnd.jupyter.widget-view+json": {
       "model_id": "5955c69d984242c59962f45d8b416673",
       "version_major": 2,
       "version_minor": 0
      },
      "text/plain": [
       "Downloading (…)9fb15c7233/README.md:   0%|          | 0.00/66.3k [00:00<?, ?B/s]"
      ]
     },
     "metadata": {},
     "output_type": "display_data"
    },
    {
     "data": {
      "application/vnd.jupyter.widget-view+json": {
       "model_id": "3fdaaec585aa48a29c0d97d6c4041524",
       "version_major": 2,
       "version_minor": 0
      },
      "text/plain": [
       "Downloading (…)b15c7233/config.json:   0%|          | 0.00/1.53k [00:00<?, ?B/s]"
      ]
     },
     "metadata": {},
     "output_type": "display_data"
    },
    {
     "data": {
      "application/vnd.jupyter.widget-view+json": {
       "model_id": "30a344d22ca141c3bb3b0c0f5fad7cca",
       "version_major": 2,
       "version_minor": 0
      },
      "text/plain": [
       "Downloading (…)ce_transformers.json:   0%|          | 0.00/122 [00:00<?, ?B/s]"
      ]
     },
     "metadata": {},
     "output_type": "display_data"
    },
    {
     "data": {
      "application/vnd.jupyter.widget-view+json": {
       "model_id": "571d758ffe3740ca98b98d18ef78fdd8",
       "version_major": 2,
       "version_minor": 0
      },
      "text/plain": [
       "Downloading pytorch_model.bin:   0%|          | 0.00/1.34G [00:00<?, ?B/s]"
      ]
     },
     "metadata": {},
     "output_type": "display_data"
    },
    {
     "data": {
      "application/vnd.jupyter.widget-view+json": {
       "model_id": "fe2533f5e0d547b7ae0a67a85cfee7ce",
       "version_major": 2,
       "version_minor": 0
      },
      "text/plain": [
       "Downloading (…)nce_bert_config.json:   0%|          | 0.00/53.0 [00:00<?, ?B/s]"
      ]
     },
     "metadata": {},
     "output_type": "display_data"
    },
    {
     "data": {
      "application/vnd.jupyter.widget-view+json": {
       "model_id": "c47daf3016ef4764a8e6f9129affc3ce",
       "version_major": 2,
       "version_minor": 0
      },
      "text/plain": [
       "Downloading (…)cial_tokens_map.json:   0%|          | 0.00/2.20k [00:00<?, ?B/s]"
      ]
     },
     "metadata": {},
     "output_type": "display_data"
    },
    {
     "data": {
      "application/vnd.jupyter.widget-view+json": {
       "model_id": "0340e839ba414f5490ff28237f8d7345",
       "version_major": 2,
       "version_minor": 0
      },
      "text/plain": [
       "Downloading spiece.model:   0%|          | 0.00/792k [00:00<?, ?B/s]"
      ]
     },
     "metadata": {},
     "output_type": "display_data"
    },
    {
     "data": {
      "application/vnd.jupyter.widget-view+json": {
       "model_id": "16cfb09a1e884d69b00943e665844e40",
       "version_major": 2,
       "version_minor": 0
      },
      "text/plain": [
       "Downloading (…)c7233/tokenizer.json:   0%|          | 0.00/2.42M [00:00<?, ?B/s]"
      ]
     },
     "metadata": {},
     "output_type": "display_data"
    },
    {
     "data": {
      "application/vnd.jupyter.widget-view+json": {
       "model_id": "06e01e5a8cb947fcb18d6c16951ac167",
       "version_major": 2,
       "version_minor": 0
      },
      "text/plain": [
       "Downloading (…)okenizer_config.json:   0%|          | 0.00/2.41k [00:00<?, ?B/s]"
      ]
     },
     "metadata": {},
     "output_type": "display_data"
    },
    {
     "data": {
      "application/vnd.jupyter.widget-view+json": {
       "model_id": "e342723a1c904d9e8b83ae75bcde688d",
       "version_major": 2,
       "version_minor": 0
      },
      "text/plain": [
       "Downloading (…)15c7233/modules.json:   0%|          | 0.00/461 [00:00<?, ?B/s]"
      ]
     },
     "metadata": {},
     "output_type": "display_data"
    },
    {
     "name": "stdout",
     "output_type": "stream",
     "text": [
      "load INSTRUCTOR_Transformer\n",
      "max_seq_length  512\n"
     ]
    }
   ],
   "source": [
    "model = INSTRUCTOR('hkunlp/instructor-large')"
   ]
  },
  {
   "cell_type": "code",
   "execution_count": 79,
   "id": "fde6cbc6",
   "metadata": {},
   "outputs": [],
   "source": [
    "question = list(questions.keys())"
   ]
  },
  {
   "attachments": {},
   "cell_type": "markdown",
   "id": "7e9a4c11",
   "metadata": {},
   "source": [
    "## Preprocessing"
   ]
  },
  {
   "cell_type": "code",
   "execution_count": 80,
   "id": "29707c87",
   "metadata": {},
   "outputs": [],
   "source": [
    "import numpy as np\n",
    "\n",
    "def make_inst_ques(instruction, question):\n",
    "    instruction = np.array(instruction)\n",
    "    \n",
    "    question = np.array(question)\n",
    "    question = question.reshape(-1,1)\n",
    "\n",
    "    instruction_question = np.hstack((instruction, question))\n",
    "    instruction_question = instruction_question.tolist()\n",
    "    return instruction_question"
   ]
  },
  {
   "cell_type": "code",
   "execution_count": null,
   "id": "ef120c9d",
   "metadata": {},
   "outputs": [],
   "source": []
  },
  {
   "attachments": {},
   "cell_type": "markdown",
   "id": "6411ad21",
   "metadata": {},
   "source": [
    "#### Domain Specific stuff"
   ]
  },
  {
   "cell_type": "code",
   "execution_count": 81,
   "id": "aebb7027",
   "metadata": {
    "scrolled": true
   },
   "outputs": [],
   "source": [
    "question = list(questions.keys())\n",
    "instruction = [[\"Represent the Medicine sentence for retrieval: \"]]*len(question)  # Domain instruction inspired from their readme\n",
    "instruction_question_train = make_inst_ques(instruction, question)"
   ]
  },
  {
   "attachments": {},
   "cell_type": "markdown",
   "id": "906030d9",
   "metadata": {},
   "source": [
    "## Preprocess the entire test set"
   ]
  },
  {
   "cell_type": "code",
   "execution_count": 1,
   "id": "4766580f",
   "metadata": {},
   "outputs": [
    {
     "ename": "NameError",
     "evalue": "name 'make_inst_ques' is not defined",
     "output_type": "error",
     "traceback": [
      "\u001b[0;31m---------------------------------------------------------------------------\u001b[0m",
      "\u001b[0;31mNameError\u001b[0m                                 Traceback (most recent call last)",
      "\u001b[0;32m/tmp/ipykernel_2128/946720141.py\u001b[0m in \u001b[0;36m<module>\u001b[0;34m\u001b[0m\n\u001b[1;32m      8\u001b[0m \u001b[0mtest_question\u001b[0m \u001b[0;34m=\u001b[0m \u001b[0mlist\u001b[0m\u001b[0;34m(\u001b[0m\u001b[0mset\u001b[0m\u001b[0;34m(\u001b[0m\u001b[0mdf\u001b[0m\u001b[0;34m[\u001b[0m\u001b[0;34m\"Extracted_Question\"\u001b[0m\u001b[0;34m]\u001b[0m\u001b[0;34m.\u001b[0m\u001b[0mvalues\u001b[0m\u001b[0;34m.\u001b[0m\u001b[0mtolist\u001b[0m\u001b[0;34m(\u001b[0m\u001b[0;34m)\u001b[0m\u001b[0;34m)\u001b[0m\u001b[0;34m)\u001b[0m\u001b[0;34m\u001b[0m\u001b[0;34m\u001b[0m\u001b[0m\n\u001b[1;32m      9\u001b[0m \u001b[0minstruction\u001b[0m \u001b[0;34m=\u001b[0m \u001b[0;34m[\u001b[0m\u001b[0;34m[\u001b[0m\u001b[0;34m\"Represent the Medicine sentence for retrieval: \"\u001b[0m\u001b[0;34m]\u001b[0m\u001b[0;34m]\u001b[0m\u001b[0;34m*\u001b[0m\u001b[0mlen\u001b[0m\u001b[0;34m(\u001b[0m\u001b[0mtest_question\u001b[0m\u001b[0;34m)\u001b[0m\u001b[0;34m\u001b[0m\u001b[0;34m\u001b[0m\u001b[0m\n\u001b[0;32m---> 10\u001b[0;31m \u001b[0minstruction_question_test\u001b[0m \u001b[0;34m=\u001b[0m \u001b[0mmake_inst_ques\u001b[0m\u001b[0;34m(\u001b[0m\u001b[0minstruction\u001b[0m\u001b[0;34m,\u001b[0m \u001b[0mtest_question\u001b[0m\u001b[0;34m)\u001b[0m\u001b[0;34m\u001b[0m\u001b[0;34m\u001b[0m\u001b[0m\n\u001b[0m",
      "\u001b[0;31mNameError\u001b[0m: name 'make_inst_ques' is not defined"
     ]
    }
   ],
   "source": [
    "import pandas as pd\n",
    "df = pd.read_csv(\"new_dataset.csv\")\n",
    "test_questions = {}\n",
    "\n",
    "for index, row in df.iterrows():\n",
    "    test_questions[row[\"Extracted_Question\"]] = row[\"Extracted_Answer\"]\n",
    "\n",
    "test_question = list(set(df[\"Extracted_Question\"].values.tolist()))\n",
    "instruction = [[\"Represent the Medicine sentence for retrieval: \"]]*len(test_question)\n",
    "instruction_question_test = make_inst_ques(instruction, test_question)"
   ]
  },
  {
   "cell_type": "code",
   "execution_count": 6,
   "id": "c423e636",
   "metadata": {},
   "outputs": [
    {
     "data": {
      "text/plain": [
       "\"Do you have information about When your child's treatment stops working (Also called: End of life care - children; Palliative care - children; Advance care planning - children)\""
      ]
     },
     "execution_count": 6,
     "metadata": {},
     "output_type": "execute_result"
    }
   ],
   "source": [
    "list(test_questions.keys())[1385]"
   ]
  },
  {
   "cell_type": "code",
   "execution_count": 7,
   "id": "37a8d499",
   "metadata": {},
   "outputs": [],
   "source": [
    "import pickle\n",
    "with open('test_ques_ans.pickle', 'wb') as file:\n",
    "    pickle.dump(test_questions, file)"
   ]
  },
  {
   "cell_type": "code",
   "execution_count": 8,
   "id": "8e8f4424",
   "metadata": {},
   "outputs": [
    {
     "data": {
      "text/plain": [
       "1805"
      ]
     },
     "execution_count": 8,
     "metadata": {},
     "output_type": "execute_result"
    }
   ],
   "source": [
    "with open('test_ques_ans.pickle', 'rb') as file:\n",
    "    loaded_dict = pickle.load(file)\n",
    "len(loaded_dict)"
   ]
  },
  {
   "cell_type": "code",
   "execution_count": 106,
   "id": "98af1d35",
   "metadata": {},
   "outputs": [
    {
     "data": {
      "text/plain": [
       "(1805, 2)"
      ]
     },
     "execution_count": 106,
     "metadata": {},
     "output_type": "execute_result"
    }
   ],
   "source": [
    "len(instruction_question_test), len(instruction_question_test[0])"
   ]
  },
  {
   "attachments": {},
   "cell_type": "markdown",
   "id": "c5c00532",
   "metadata": {},
   "source": [
    "## Performing the embedding"
   ]
  },
  {
   "cell_type": "code",
   "execution_count": 107,
   "id": "241e2d19",
   "metadata": {},
   "outputs": [],
   "source": [
    "import numpy as np\n",
    "from sklearn.metrics.pairwise import cosine_similarity\n",
    "\n",
    "query_embeddings = model.encode(instruction_question_test)\n",
    "corpus_embeddings = model.encode(instruction_question_train)"
   ]
  },
  {
   "attachments": {},
   "cell_type": "markdown",
   "id": "10faebea",
   "metadata": {},
   "source": [
    "### Perform Cosine Similarity"
   ]
  },
  {
   "cell_type": "code",
   "execution_count": 108,
   "id": "ad21838e",
   "metadata": {},
   "outputs": [],
   "source": [
    "similarities = cosine_similarity(query_embeddings,corpus_embeddings)"
   ]
  },
  {
   "attachments": {},
   "cell_type": "markdown",
   "id": "37a21444",
   "metadata": {},
   "source": [
    "### Get top K"
   ]
  },
  {
   "cell_type": "code",
   "execution_count": 109,
   "id": "dac79d27",
   "metadata": {},
   "outputs": [],
   "source": [
    "def get_top_k_similarities(similarities, k):\n",
    "    top_k_indices = np.argsort(similarities, axis=1)[:, -k:][:, ::-1]\n",
    "    return top_k_indices"
   ]
  },
  {
   "cell_type": "code",
   "execution_count": 110,
   "id": "09c8ec73",
   "metadata": {
    "scrolled": true
   },
   "outputs": [],
   "source": [
    "top_k_indices = get_top_k_similarities(similarities, k=3)"
   ]
  },
  {
   "attachments": {},
   "cell_type": "markdown",
   "id": "bc210f0b",
   "metadata": {},
   "source": [
    "## Testing it out"
   ]
  },
  {
   "cell_type": "code",
   "execution_count": 117,
   "id": "0ef7816c",
   "metadata": {},
   "outputs": [
    {
     "name": "stdout",
     "output_type": "stream",
     "text": [
      "Test Question: What is the outlook for Benign positional vertigo - aftercare ? (Also called: Vertigo - positional - aftercare; Benign paroxysmal positional vertigo - aftercare; BPPV - aftercare)\n",
      "\n",
      "Similar Questions:\n",
      "What is the outlook for Orthostatic Hypotension ?\n",
      "Answer: The prognosis for individuals with orthostatic hypotension depends on the underlying cause of the condition.\n",
      "Similar Questions:\n",
      "What is the outlook for Occipital Neuralgia ?\n",
      "Answer: Occipital neuralgia is not a life-threatening condition. Many individuals will improve with therapy involving heat, rest, anti-inflammatory medications, and muscle relaxants. Recovery is usually complete after the bout of pain has ended and the nerve damage repaired or lessened.\n",
      "Similar Questions:\n",
      "What is the outlook for Binswanger's Disease ?\n",
      "Answer: BD is a progressive disease; there is no cure. Changes may be sudden or gradual and then progress in a stepwise manner. BD can often coexist with Alzheimer's disease. Behaviors that slow the progression of high blood pressure, diabetes, and atherosclerosis -- such as eating a healthy diet and keeping healthy wake/sleep schedules, exercising, and not smoking or drinking too much alcohol -- can also slow the progression of BD.\n",
      "\n",
      "\n",
      "Test Question: Do you have information about Urination - excessive amount (Also called: Polyuria)\n",
      "\n",
      "Similar Questions:\n",
      "How to diagnose Urinary Retention ?\n",
      "Answer: A health care provider diagnoses acute or chronic urinary retention with\n",
      "                \n",
      "- a physical exam  - postvoid residual measurement\n",
      "                \n",
      "A health care provider may use the following medical tests to help determine the cause of urinary retention:\n",
      "                \n",
      "- cystoscopy  - computerized tomography (CT) scans  - urodynamic tests  - electromyography\n",
      "                \n",
      "Physical Exam\n",
      "                \n",
      "A health care provider may suspect urinary retention because of a patients symptoms and, therefore, perform a physical exam of the lower abdomen. The health care provider may be able to feel a distended bladder by lightly tapping on the lower belly.\n",
      "                \n",
      "Postvoid Residual Measurement\n",
      "                \n",
      "This test measures the amount of urine left in the bladder after urination. The remaining urine is called the postvoid residual. A specially trained technician performs an ultrasound, which uses harmless sound waves to create a picture of the bladder, to measure the postvoid residual. The technician performs the bladder ultrasound in a health care providers office, a radiology center, or a hospital, and a radiologista doctor who specializes in medical imaginginterprets the images. The patient does not need anesthesia.\n",
      "                \n",
      "A health care provider may use a cathetera thin, flexible tubeto measure postvoid residual. The health care provider inserts the catheter through the urethra into the bladder, a procedure called catheterization, to drain and measure the amount of remaining urine. A postvoid residual of 100 mL or more indicates the bladder does not empty completely. A health care provider performs this test during an office visit. The patient often receives local anesthesia.\n",
      "                \n",
      "Medical Tests\n",
      "                \n",
      "Cystoscopy. Cystoscopy is a procedure that requires a tubelike instrument, called a cystoscope, to look inside the urethra and bladder. A health care provider performs cystoscopy during an office visit or in an outpatient center or a hospital. The patient will receive local anesthesia. However, in some cases, the patient may receive sedation and regional or general anesthesia. A health care provider may use cystoscopy to diagnose urethral stricture or look for a bladder stone blocking the opening of the urethra.\n",
      "                \n",
      "More information is provided in the NIDDK health topic, Cystoscopy and Ureteroscopy.\n",
      "                \n",
      "CT scans. CT scans use a combination of x rays and computer technology to create images. For a CT scan, a health care provider may give the patient a solution to drink and an injection of a special dye, called contrast medium. CT scans require the patient to lie on a table that slides into a tunnel-shaped device where a technician takes the x rays. An x-ray technician performs the procedure in an outpatient center or a hospital, and a radiologist interprets the images. The patient does not need anesthesia. A health care provider may give infants and children a sedative to help them fall asleep for the test. CT scans can show\n",
      "                \n",
      "- urinary tract stones  - UTIs  - tumors  - traumatic injuries  - abnormal, fluid-containing sacs called cysts\n",
      "                \n",
      "Urodynamic tests. Urodynamic tests include a variety of procedures that look at how well the bladder and urethra store and release urine. A health care provider may use one or more urodynamic tests to diagnose urinary retention. The health care provider will perform these tests during an office visit. For tests that use a catheter, the patient often receives local anesthesia.\n",
      "                \n",
      "- Uroflowmetry. Uroflowmetry measures urine speed and volume. Special equipment automatically measures the amount of urine and the flow ratehow fast urine comes out. Uroflowmetry equipment includes a device for catching and measuring urine and a computer to record the data. The equipment creates a graph that shows changes in flow rate from second to second so the health care provider can see the highest flow rate and how many seconds it takes to get there. A weak bladder muscle or blocked urine flow will yield an abnormal test result.  - Pressure flow study. A pressure flow study measures the bladder pressure required to urinate and the flow rate a given pressure generates. A health care provider places a catheter with a manometer into the bladder. The manometer measures bladder pressure and flow rate as the bladder empties. A pressure flow study helps diagnose bladder outlet obstruction.  - Video urodynamics. This test uses x rays or ultrasound to create real-time images of the bladder and urethra during the filling or emptying of the bladder. For x rays, a health care provider passes a catheter through the urethra into the bladder. He or she fills the bladder with contrast medium, which is visible on the video images. Video urodynamic images can show the size and shape of the urinary tract, the flow of urine, and causes of urinary retention, such as bladder neck obstruction.\n",
      "                \n",
      "More information is provided in the NIDDK health topic, Urodynamic Testing.\n",
      "                \n",
      "Electromyography. Electromyography uses special sensors to measure the electrical activity of the muscles and nerves in and around the bladder and sphincters. A specially trained technician places sensors on the skin near the urethra and rectum or on a urethral or rectal catheter. The sensors record, on a machine, muscle and nerve activity. The patterns of the nerve impulses show whether the messages sent to the bladder and sphincters coordinate correctly. A technician performs electromyography in a health care providers office, an outpatient center, or a hospital. The patient does not need anesthesia if the technician uses sensors placed on the skin. The patient will receive local anesthesia if the technician uses sensors placed on a urethral or rectal catheter.\n",
      "Similar Questions:\n",
      "How to diagnose Urinary Incontinence ?\n",
      "Answer: The first step in treating urinary incontinence is to see a health care provider. He or she will give you a physical exam and take your medical history. The provider will ask about your symptoms and the medicines you use. He or she will want to know if you have been sick recently or have had surgery. Your provider also may do a number of tests. These might include - urine tests  - tests that measure how well you empty your bladder, usually by ultrasound. urine tests tests that measure how well you empty your bladder, usually by ultrasound. In addition, your health care provider may ask you to keep a daily diary of when you urinate and when you leak urine. Your family provider may also send you to a urologist or urogynecologist, a doctor who specializes in urinary tract problems. Learn more about how urinary incontinence is diagnosed in  men and  women.\n",
      "Similar Questions:\n",
      "What to do for Proteinuria ?\n",
      "Answer: - Proteinuria is a condition in which urine contains a detectable amount of protein.  - Proteinuria is a sign of chronic kidney disease (CKD).  - Groups at risk for proteinuria include African Americans, American Indians, Hispanics/Latinos, Pacific Islander Americans, older people, overweight people, people with diabetes or hypertension, and people who have a family history of kidney disease.  - Proteinuria may have no signs or symptoms. Laboratory testing is the only way to find out whether protein is in a person's urine.  - Several health organizations recommend regular checks for proteinuria so kidney disease can be detected and treated before it progresses.  - A person with diabetes, hypertension, or both should work to control blood glucose and blood pressure.\n",
      "\n",
      "\n",
      "Test Question: What causes Cancer treatment: dealing with pain ?\n",
      "\n",
      "Similar Questions:\n",
      "What are the treatments for Surviving Cancer ?\n",
      "Answer: Certain kinds of chemotherapy and medicines contribute to weight gain. Unfortunately, the usual ways people try to lose weight may not work. Ask your doctor about talking with a nutritionist who can help you plan a healthy diet, and about doing exercises that can help you regain muscle tone.\n",
      "Similar Questions:\n",
      "What are the treatments for Breast Cancer ?\n",
      "Answer: Key Points\n",
      "                    - There are different types of treatment for patients with breast cancer.    - Five types of standard treatment are used:         - Surgery      - Radiation therapy      - Chemotherapy      - Hormone therapy      - Targeted therapy        - New types of treatment are being tested in clinical trials.          - High-dose chemotherapy with stem cell transplant        - Treatment for breast cancer may cause side effects.    - Patients may want to think about taking part in a clinical trial.    - Patients can enter clinical trials before, during, or after starting their cancer treatment.    - Follow-up tests may be needed.\n",
      "                \n",
      "                \n",
      "                    There are different types of treatment for patients with breast cancer.\n",
      "                    Different types of treatment are available for patients with breast cancer. Some treatments are standard (the currently used treatment), and some are being tested in clinical trials. A treatment clinical trial is a research study meant to help improve current treatments or obtain information on new treatments for patients with cancer. When clinical trials show that a new treatment is better than the standard treatment, the new treatment may become the standard treatment. Patients may want to think about taking part in a clinical trial. Some clinical trials are open only to patients who have not started treatment.\n",
      "                \n",
      "                \n",
      "                    Five types of standard treatment are used:\n",
      "                    Surgery     Most patients with breast cancer have surgery to remove the cancer.     Sentinel lymph node biopsy is the removal of the sentinel lymph node during surgery. The sentinel lymph node is the first lymph node to receive lymphatic drainage from a tumor. It is the first lymph node where the cancer is likely to spread. A radioactive substance and/or blue dye is injected near the tumor. The substance or dye flows through the lymph ducts to the lymph nodes. The first lymph node to receive the substance or dye is removed. A pathologist views the tissue under a microscope to look for cancer cells. After the sentinel lymph node biopsy, the surgeon removes the tumor using breast-conserving surgery or mastectomy. If cancer cells were not found in the sentinel lymph node, it may not be necessary to remove more lymph nodes. If cancer cells were found, more lymph nodes will be removed through a separate incision. This is called a lymph node dissection.    Types of surgery include the following:            - Breast-conserving surgery is an operation to remove the cancer and some normal tissue around it, but not the breast itself. Part of the chest wall lining may also be removed if the cancer is near it. This type of surgery may also be called lumpectomy, partial mastectomy, segmental mastectomy, quadrantectomy, or breast-sparing surgery.     -  Total mastectomy: Surgery to remove the whole breast that has cancer. This procedure is also called a simple mastectomy. Some of the lymph nodes under the arm may be removed and checked for cancer. This may be done at the same time as the breast surgery or after. This is done through a separate incision.      -  Modified radical mastectomy: Surgery to remove the whole breast that has cancer, many of the lymph nodes under the arm, the lining over the chest muscles, and sometimes, part of the chest wall muscles.             Chemotherapy may be given before surgery to remove the tumor. When given before surgery, chemotherapy will shrink the tumor and reduce the amount of tissue that needs to be removed during surgery. Treatment given before surgery is called preoperative therapy or neoadjuvant therapy.    Even if the doctor removes all the cancer that can be seen at the time of the surgery, some patients may be given radiation therapy, chemotherapy, or hormone therapy after surgery, to kill any cancer cells that are left. Treatment given after the surgery, to lower the risk that the cancer will come back, is called postoperative therapy or adjuvant therapy.     If a patient is going to have a mastectomy, breast reconstruction (surgery to rebuild a breasts shape after a mastectomy) may be considered. Breast reconstruction may be done at the time of the mastectomy or at some time after. The reconstructed breast may be made with the patients own (nonbreast) tissue or by using implants filled with saline or silicone gel. Before the decision to get an implant is made, patients can call the Food and Drug Administration's (FDA) Center for Devices and Radiologic Health at 1-888-INFO-FDA (1-888-463-6332) or visit the FDA website for more information on breast implants.        Radiation therapy     Radiation therapy is a cancer treatment that uses high-energy x-rays or other types of radiation to kill cancer cells or keep them from growing. There are two types of radiation therapy:            -  External radiation therapy uses a machine outside the body to send radiation toward the cancer.     -  Internal radiation therapy uses a radioactive substance sealed in needles, seeds, wires, or catheters that are placed directly into or near the cancer.           The way the radiation therapy is given depends on the type and stage of the cancer being treated. External radiation therapy is used to treat breast cancer. Internal radiation therapy with strontium-89 (a radionuclide) is used to relieve bone pain caused by breast cancer that has spread to the bones. Strontium-89 is injected into a vein and travels to the surface of the bones. Radiation is released and kills cancer cells in the bones.       Chemotherapy     Chemotherapy is a cancer treatment that uses drugs to stop the growth of cancer cells, either by killing the cells or by stopping them from dividing. When chemotherapy is taken by mouth or injected into a vein or muscle, the drugs enter the bloodstream and can reach cancer cells throughout the body (systemic chemotherapy). When chemotherapy is placed directly into the cerebrospinal fluid, an organ, or a body cavity such as the abdomen, the drugs mainly affect cancer cells in those areas (regional chemotherapy).     The way the chemotherapy is given depends on the type and stage of the cancer being treated. Systemic chemotherapy is used in the treatment of breast cancer.    See Drugs Approved for Breast Cancer for more information.       Hormone therapy      Hormone therapy is a cancer treatment that removes hormones or blocks their action and stops cancer cells from growing. Hormones are substances made by glands in the body and circulated in the bloodstream. Some hormones can cause certain cancers to grow. If tests show that the cancer cells have places where hormones can attach (receptors), drugs, surgery, or radiation therapy is used to reduce the production of hormones or block them from working. The hormone estrogen, which makes some breast cancers grow, is made mainly by the ovaries. Treatment to stop the ovaries from making estrogen is called ovarian ablation.     Hormone therapy with tamoxifen is often given to patients with early localized breast cancer that can be removed by surgery and those with metastatic breast cancer (cancer that has spread to other parts of the body). Hormone therapy with tamoxifen or estrogens can act on cells all over the body and may increase the chance of developing endometrial cancer. Women taking tamoxifen should have a pelvic exam every year to look for any signs of cancer. Any vaginal bleeding, other than menstrual bleeding, should be reported to a doctor as soon as possible.    Hormone therapy with a luteinizing hormone-releasing hormone (LHRH) agonist is given to some premenopausal women who have just been diagnosed with hormone receptor positive breast cancer. LHRH agonists decrease the body's estrogen and progesterone.     Hormone therapy with an aromatase inhibitor is given to some postmenopausal women who have hormone receptor positive breast cancer. Aromatase inhibitors decrease the body's estrogen by blocking an enzyme called aromatase from turning androgen into estrogen. Anastrozole, letrozole, and exemestane are types of aromatase inhibitors.    For the treatment of early localized breast cancer that can be removed by surgery, certain aromatase inhibitors may be used as adjuvant therapy instead of tamoxifen or after 2 to 3 years of tamoxifen use. For the treatment of metastatic breast cancer, aromatase inhibitors are being tested in clinical trials to compare them to hormone therapy with tamoxifen.    Other types of hormone therapy include megestrol acetate or anti-estrogen therapy such as fulvestrant.    See Drugs Approved for Breast Cancer for more information.       Targeted therapy     Targeted therapy is a type of treatment that uses drugs or other substances to identify and attack specific cancer cells without harming normal cells. Monoclonal antibodies, tyrosine kinase inhibitors, cyclin-dependent kinase inhibitors, mammalian target of rapamycin (mTOR) inhibitors, and PARP inhibitors are types of targeted therapies used in the treatment of breast cancer.    Monoclonal antibody therapy is a cancer treatment that uses antibodies made in the laboratory, from a single type of immune system cell. These antibodies can identify substances on cancer cells or normal substances that may help cancer cells grow. The antibodies attach to the substances and kill the cancer cells, block their growth, or keep them from spreading. Monoclonal antibodies are given by infusion. They may be used alone or to carry drugs, toxins, or radioactive material directly to cancer cells. Monoclonal antibodies may be used in combination with chemotherapy as adjuvant therapy.    Types of monoclonal antibody therapy include the following:            -  Trastuzumab is a monoclonal antibody that blocks the effects of the growth factor protein HER2, which sends growth signals to breast cancer cells. It may be used with other therapies to treat HER2 positive breast cancer.      -  Pertuzumab is a monoclonal antibody that may be combined with trastuzumab and chemotherapy to treat breast cancer. It may be used to treat certain patients with HER2 positive breast cancer that has metastasized (spread to other parts of the body). It may also be used as neoadjuvant therapy in certain patients with early stage HER2 positive breast cancer.     -  Ado-trastuzumab emtansine is a monoclonal antibody linked to an anticancer drug. This is called an antibody-drug conjugate. It is used to treat HER2 positive breast cancer that has spread to other parts of the body or recurred (come back).            Tyrosine kinase inhibitors are targeted therapy drugs that block signals needed for tumors to grow. Tyrosine kinase inhibitors may be used with other anticancer drugs as adjuvant therapy. Tyrosine kinase inhibitors include the following:            -  Lapatinib is a tyrosine kinase inhibitor that blocks the effects of the HER2 protein and other proteins inside tumor cells. It may be used with other drugs to treat patients with HER2 positive breast cancer that has progressed after treatment with trastuzumab.           Cyclin-dependent kinase inhibitors are targeted therapy drugs that block proteins called cyclin-dependent kinases, which cause the growth of cancer cells. Cyclin-dependent kinase inhibitors include the following:            -  Palbociclib is a cyclin-dependent kinase inhibitor used with the drug letrozole to treat breast cancer that is estrogen receptor positive and HER2 negative and has spread to other parts of the body. It is used in postmenopausal women whose cancer has not been treated with hormone therapy. Palbociclib may also be used with fulvestrant in women whose disease has gotten worse after treatment with hormone therapy.      -  Ribociclib is a cyclin-dependent kinase inhibitor used with letrozole to treat breast cancer that is hormone receptor positive and HER2 negative and has come back or spread to other parts of the body. It is used in postmenopausal women whose cancer has not been treated with hormone therapy.            Mammalian target of rapamycin (mTOR) inhibitors block a protein called mTOR, which may keep cancer cells from growing and prevent the growth of new blood vessels that tumors need to grow. mTOR inhibitors include the following:            -  Everolimus is an mTOR inhibitor used in postmenopausal women with advanced hormone receptor positive breast cancer that is also HER2 negative and has not gotten better with other treatment.            PARP inhibitors are a type of targeted therapy that block DNA repair and may cause cancer cells to die. PARP inhibitor therapy is being studied for the treatment of patients with triple negative breast cancer or tumors with  BRCA1  or  BRCA2  mutations.    See Drugs Approved for Breast Cancer for more information.\n",
      "                \n",
      "                \n",
      "                    New types of treatment are being tested in clinical trials.\n",
      "                    This summary section describes treatments that are being studied in clinical trials. It may not mention every new treatment being studied. Information about clinical trials is available from the NCI website.     High-dose chemotherapy with stem cell transplant     High-dose chemotherapy with stem cell transplant is a way of giving high doses of chemotherapy and replacing blood -forming cells destroyed by the cancer treatment. Stem cells (immature blood cells) are removed from the blood or bone marrow of the patient or a donor and are frozen and stored. After the chemotherapy is completed, the stored stem cells are thawed and given back to the patient through an infusion. These reinfused stem cells grow into (and restore) the bodys blood cells.    Studies have shown that high-dose chemotherapy followed by stem cell transplant does not work better than standard chemotherapy in the treatment of breast cancer. Doctors have decided that, for now, high-dose chemotherapy should be tested only in clinical trials. Before taking part in such a trial, women should talk with their doctors about the serious side effects, including death, that may be caused by high-dose chemotherapy.\n",
      "                \n",
      "                \n",
      "                    Treatment for breast cancer may cause side effects.\n",
      "                    For information about side effects that begin during treatment for cancer, see our Side Effects page.   Some treatments for breast cancer may cause side effects that continue or appear months or years after treatment has ended. These are called late effects.   Late effects of radiation therapy are not common, but may include:         -  Inflammation of the lung after radiation therapy to the breast, especially when chemotherapy is given at the same time.     - Arm lymphedema, especially when radiation therapy is given after lymph node dissection.     - In women younger than 45 years who receive radiation therapy to the chest wall after mastectomy, there may be a higher risk of developing breast cancer in the other breast.        Late effects of chemotherapy depend on the drugs used, but may include:         -  Heart failure.    -  Blood clots.    -  Premature menopause.    -  Second cancer, such as leukemia.        Late effects of targeted therapy with trastuzumab, lapatinib, or pertuzumab may include:         - Heart problems such as heart failure.\n",
      "                \n",
      "                \n",
      "                    Patients may want to think about taking part in a clinical trial.\n",
      "                    For some patients, taking part in a clinical trial may be the best treatment choice. Clinical trials are part of the cancer research process. Clinical trials are done to find out if new cancer treatments are safe and effective or better than the standard treatment.   Many of today's standard treatments for cancer are based on earlier clinical trials. Patients who take part in a clinical trial may receive the standard treatment or be among the first to receive a new treatment.   Patients who take part in clinical trials also help improve the way cancer will be treated in the future. Even when clinical trials do not lead to effective new treatments, they often answer important questions and help move research forward.\n",
      "                \n",
      "                \n",
      "                    Patients can enter clinical trials before, during, or after starting their cancer treatment.\n",
      "                    Some clinical trials only include patients who have not yet received treatment. Other trials test treatments for patients whose cancer has not gotten better. There are also clinical trials that test new ways to stop cancer from recurring (coming back) or reduce the side effects of cancer treatment.   Clinical trials are taking place in many parts of the country. See the Treatment Options section that follows for links to current treatment clinical trials. These have been retrieved from NCI's listing of clinical trials.\n",
      "                \n",
      "                \n",
      "                    Follow-up tests may be needed.\n",
      "                    Some of the tests that were done to diagnose the cancer or to find out the stage of the cancer may be repeated. Some tests will be repeated in order to see how well the treatment is working. Decisions about whether to continue, change, or stop treatment may be based on the results of these tests.   Some of the tests will continue to be done from time to time after treatment has ended. The results of these tests can show if your condition has changed or if the cancer has recurred (come back). These tests are sometimes called follow-up tests or check-ups.\n",
      "                \n",
      "\t\t        \n",
      "\t\t            Treatment Options for Breast Cancer\n",
      "\t\t            \n",
      "\t\t                \n",
      "\t\t                    Early, Localized, or Operable Breast Cancer\n",
      "\t\t                    Treatment of early, localized, or operable breast cancer may include the following:       Surgery             -  Breast-conserving surgery and sentinel lymph node biopsy. If cancer is found in the lymph nodes, a lymph node dissection may be done.     -  Modified radical mastectomy. Breast reconstruction surgery may also be done.                Postoperative radiation therapy     For women who had breast-conserving surgery, radiation therapy is given to the whole breast to lessen the chance the cancer will come back. Radiation therapy may also be given to lymph nodes in the area.    For women who had a modified radical mastectomy, radiation therapy may be given to lessen the chance the cancer will come back if any of the following are true:            - Cancer was found in 4 or more lymph nodes.     - Cancer had spread to tissue around the lymph nodes.     - The tumor was large.     - There is tumor close to or remaining in the tissue near the edges of where the tumor was removed.                Postoperative systemic therapy      Systemic therapy is the use of drugs that can enter the bloodstream and reach cancer cells throughout the body. Postoperative systemic therapy is given to lessen the chance the cancer will come back after surgery to remove the tumor.    Postoperative systemic therapy is given depending on whether:            - The tumor is hormone receptor negative or positive.     - The tumor is HER2/neu negative or positive.     - The tumor is hormone receptor negative and HER2/neu negative (triple negative).     - The size of the tumor.           In premenopausal women with hormone receptor positive tumors, no more treatment may be needed or postoperative therapy may include:            -  Tamoxifen therapy with or without chemotherapy.     - Tamoxifen therapy and treatment to stop or lessen how much estrogen is made by the ovaries. Drug therapy, surgery to remove the ovaries, or radiation therapy to the ovaries may be used.     -  Aromatase inhibitor therapy and treatment to stop or lessen how much estrogen is made by the ovaries. Drug therapy, surgery to remove the ovaries, or radiation therapy to the ovaries may be used.           In postmenopausal women with hormone receptor positive tumors, no more treatment may be needed or postoperative therapy may include:            - Aromatase inhibitor therapy with or without chemotherapy.     - Tamoxifen followed by aromatase inhibitor therapy, with or without chemotherapy.           In women with hormone receptor negative tumors, no more treatment may be needed or postoperative therapy may include:            - Chemotherapy.           In women with HER2/neu negative tumors, postoperative therapy may include:            - Chemotherapy.           In women with small, HER2/neu positive tumors, and no cancer in the lymph nodes, no more treatment may be needed. If there is cancer in the lymph nodes, or the tumor is large, postoperative therapy may include:            - Chemotherapy and targeted therapy (trastuzumab).     -  Hormone therapy, such as tamoxifen or aromatase inhibitor therapy, for tumors that are also hormone receptor positive.           In women with small, hormone receptor negative and HER2/neu negative tumors (triple negative) and no cancer in the lymph nodes, no more treatment may be needed. If there is cancer in the lymph nodes or the tumor is large, postoperative therapy may include:            - Chemotherapy.     - Radiation therapy.     - A clinical trial of a new chemotherapy regimen.     - A clinical trial of PARP inhibitor therapy.                Preoperative systemic therapy     Systemic therapy is the use of drugs that can enter the bloodstream and reach cancer cells throughout the body. Preoperative systemic therapy is given to shrink the tumor before surgery.    In postmenopausal women with hormone receptor positive tumors, preoperative therapy may include:            - Chemotherapy.     - Hormone therapy, such as tamoxifen or aromatase inhibitor therapy, for women who cannot have chemotherapy.           In premenopausal women with hormone receptor positive tumors, preoperative therapy may include:            - A clinical trial of hormone therapy, such as tamoxifen or aromatase inhibitor therapy.           In women with HER2/neu positive tumors, preoperative therapy may include:            - Chemotherapy and targeted therapy (trastuzumab).     - Targeted therapy (pertuzumab).           In women with HER2/neu negative tumors or triple negative tumors, preoperative therapy may include:            - Chemotherapy.            Check the list of NCI-supported cancer clinical trials that are now accepting patients with stage I breast cancer, stage II breast cancer, stage IIIA breast cancer and stage IIIC breast cancer. For more specific results, refine the search by using other search features, such as the location of the trial, the type of treatment, or the name of the drug. Talk with your doctor about clinical trials that may be right for you. General information about clinical trials is available from the NCI website.\n",
      "\t\t                \n",
      "\t\t                \n",
      "\t\t                    Locally Advanced or Inflammatory Breast Cancer\n",
      "\t\t                    Treatment of locally advanced or inflammatory breast cancer is a combination of therapies that may include the following:         -  Surgery (breast-conserving surgery or total mastectomy) with lymph node dissection.    -  Chemotherapy before and/or after surgery.    -  Radiation therapy after surgery.    -  Hormone therapy after surgery for tumors that are estrogen receptor positive or estrogen receptor unknown.    -  Clinical trials testing new anticancer drugs, new drug combinations, and new ways of giving treatment.         Check the list of NCI-supported cancer clinical trials that are now accepting patients with stage IIIB breast cancer, stage IIIC breast cancer, stage IV breast cancer and inflammatory breast cancer. For more specific results, refine the search by using other search features, such as the location of the trial, the type of treatment, or the name of the drug. Talk with your doctor about clinical trials that may be right for you. General information about clinical trials is available from the NCI website.\n",
      "\t\t                \n",
      "\t\t                \n",
      "\t\t                    Locoregional Recurrent Breast Cancer\n",
      "\t\t                    Treatment of locoregional recurrent breast cancer (cancer that has come back after treatment in the breast, in the chest wall, or in nearby lymph nodes), may include the following:         -  Chemotherapy.    -  Hormone therapy for tumors that are hormone receptor positive.    -  Radiation therapy.    -  Surgery.    -  Targeted therapy (trastuzumab).     - A clinical trial of a new treatment.        See the Metastatic Breast Cancer section for information about treatment options for breast cancer that has spread to parts of the body outside the breast, chest wall, or nearby lymph nodes.   Check the list of NCI-supported cancer clinical trials that are now accepting patients with recurrent breast cancer. For more specific results, refine the search by using other search features, such as the location of the trial, the type of treatment, or the name of the drug. Talk with your doctor about clinical trials that may be right for you. General information about clinical trials is available from the NCI website.\n",
      "\t\t                \n",
      "\t\t                \n",
      "\t\t                    Metastatic Breast Cancer\n",
      "\t\t                    Treatment options for metastatic breast cancer (cancer that has spread to distant parts of the body) may include the following:       Hormone therapy     In postmenopausal women who have just been diagnosed with metastatic breast cancer that is hormone receptor positive or if the hormone receptor status is not known, treatment may include:            -  Tamoxifen therapy.     -  Aromatase inhibitor therapy (anastrozole, letrozole, or exemestane). Sometimes cyclin-dependent kinase inhibitor therapy (palbociclib) is also given.           In premenopausal women who have just been diagnosed with metastatic breast cancer that is hormone receptor positive, treatment may include:             - Tamoxifen, an LHRH agonist, or both.           In women whose tumors are hormone receptor positive or hormone receptor unknown, with spread to the bone or soft tissue only, and who have been treated with tamoxifen, treatment may include:             - Aromatase inhibitor therapy.     - Other hormone therapy such as megestrol acetate, estrogen or androgen therapy, or anti-estrogen therapy such as fulvestrant.                Targeted therapy     In women with metastatic breast cancer that is hormone receptor positive and has not responded to other treatments, options may include targeted therapy such as:            -  Trastuzumab, lapatinib, pertuzumab, or mTOR inhibitors.     -  Antibody-drug conjugate therapy with ado-trastuzumab emtansine.     - Cyclin-dependent kinase inhibitor therapy (palbociclib) combined with letrozole.           In women with metastatic breast cancer that is HER2/neu positive, treatment may include:             - Targeted therapy such as trastuzumab, pertuzumab, ado-trastuzumab emtansine, or lapatinib.                Chemotherapy     In women with metastatic breast cancer that is hormone receptor negative, has not responded to hormone therapy, has spread to other organs or has caused symptoms, treatment may include:            -  Chemotherapy with one or more drugs.                Surgery             -  Total mastectomy for women with open or painful breast lesions. Radiation therapy may be given after surgery.     - Surgery to remove cancer that has spread to the brain or spine. Radiation therapy may be given after surgery.     - Surgery to remove cancer that has spread to the lung.     - Surgery to repair or help support weak or broken bones. Radiation therapy may be given after surgery.     - Surgery to remove fluid that has collected around the lungs or heart.                Radiation therapy             - Radiation therapy to the bones, brain, spinal cord, breast, or chest wall to relieve symptoms and improve quality of life.     -  Strontium-89 (a radionuclide) to relieve pain from cancer that has spread to bones throughout the body.                Other treatment options     Other treatment options for metastatic breast cancer include:            - Drug therapy with bisphosphonates or denosumab to reduce bone disease and pain when cancer has spread to the bone. (See the PDQ summary on Cancer Pain for more information about bisphosphonates.)     - A clinical trial of high-dose chemotherapy with stem cell transplant.     - Clinical trials testing new anticancer drugs, new drug combinations, and new ways of giving treatment.            Check the list of NCI-supported cancer clinical trials that are now accepting patients with metastatic cancer. For more specific results, refine the search by using other search features, such as the location of the trial, the type of treatment, or the name of the drug. Talk with your doctor about clinical trials that may be right for you. General information about clinical trials is available from the NCI website.\n",
      "Similar Questions:\n",
      "What are the treatments for breast cancer ?\n",
      "Answer: These resources address the diagnosis or management of breast cancer:  - Gene Review: Gene Review: BRCA1 and BRCA2 Hereditary Breast/Ovarian Cancer  - Gene Review: Gene Review: Hereditary Diffuse Gastric Cancer  - Gene Review: Gene Review: Li-Fraumeni Syndrome  - Gene Review: Gene Review: PTEN Hamartoma Tumor Syndrome (PHTS)  - Gene Review: Gene Review: Peutz-Jeghers Syndrome  - Genetic Testing Registry: Familial cancer of breast  - Genomics Education Programme (UK): Hereditary Breast and Ovarian Cancer  - National Cancer Institute: Breast Cancer Risk Assessment Tool  - National Cancer Institute: Genetic Testing for BRCA1 and BRCA2: It's Your Choice  - National Cancer Institute: Genetic Testing for Hereditary Cancer Syndromes   These resources from MedlinePlus offer information about the diagnosis and management of various health conditions:  - Diagnostic Tests  - Drug Therapy  - Surgery and Rehabilitation  - Genetic Counseling   - Palliative Care\n",
      "\n",
      "\n",
      "Test Question: Is Down syndrome inherited ? (Also called: 47,XX,+21; 47,XY,+21; Down's syndrome; trisomy 21; trisomy G)\n",
      "\n",
      "Similar Questions:\n",
      "Is Down syndrome inherited ?\n",
      "Answer: Most cases of Down syndrome are not inherited. When the condition is caused by trisomy 21, the chromosomal abnormality occurs as a random event during the formation of reproductive cells in a parent. The abnormality usually occurs in egg cells, but it occasionally occurs in sperm cells. An error in cell division called nondisjunction results in a reproductive cell with an abnormal number of chromosomes. For example, an egg or sperm cell may gain an extra copy of chromosome 21. If one of these atypical reproductive cells contributes to the genetic makeup of a child, the child will have an extra chromosome 21 in each of the body's cells.  People with translocation Down syndrome can inherit the condition from an unaffected parent. The parent carries a rearrangement of genetic material between chromosome 21 and another chromosome. This rearrangement is called a balanced translocation. No genetic material is gained or lost in a balanced translocation, so these chromosomal changes usually do not cause any health problems. However, as this translocation is passed to the next generation, it can become unbalanced. People who inherit an unbalanced translocation involving chromosome 21 may have extra genetic material from chromosome 21, which causes Down syndrome.  Like trisomy 21, mosaic Down syndrome is not inherited. It occurs as a random event during cell division early in fetal development. As a result, some of the body's cells have the usual two copies of chromosome 21, and other cells have three copies of this chromosome.\n",
      "Similar Questions:\n",
      "Is 47, XYY syndrome inherited ?\n",
      "Answer: Is 47, XYY syndrome inherited? 47, XYY syndrome is usually not inherited. It is typically due to a random event during the formation of a sperm cell. Recurrence of 47, XYY syndrome in a family is rare. The recurrence risk for siblings and other family members is not thought to be increased. Additionally, men with 47, XYY are not reported to have an increased risk for a child with a chromosome variation. People with personal questions about recurrence risks are encouraged to speak with a genetic counselor or other genetic professional.\n",
      "Similar Questions:\n",
      "Is 47,XYY syndrome inherited ?\n",
      "Answer: Most cases of 47,XYY syndrome are not inherited. The chromosomal change usually occurs as a random event during the formation of sperm cells. An error in cell division called nondisjunction can result in sperm cells with an extra copy of the Y chromosome. If one of these atypical reproductive cells contributes to the genetic makeup of a child, the child will have an extra Y chromosome in each of the body's cells.  46,XY/47,XYY mosaicism is also not inherited. It occurs as a random event during cell division in early embryonic development. As a result, some of an affected person's cells have one X chromosome and one Y chromosome (46,XY), and other cells have one X chromosome and two Y chromosomes (47,XYY).\n",
      "\n",
      "\n",
      "Test Question: How to prevent Tooth decay - early childhood ? (Also called: Bottle mouth; Bottle carries; Baby bottle tooth decay; Early childhood caries (ECC))\n",
      "\n",
      "Similar Questions:\n",
      "How to prevent Gum (Periodontal) Disease ?\n",
      "Answer: Yes, you can prevent gum disease with proper dental hygiene and regular cleanings by your dentist or dental hygienist. Specifically, you should - brush your teeth twice a day (with a fluoride toothpaste).   - floss regularly to remove plaque from between teeth. Or use a device such as a special pick recommended by a dental professional.   - visit the dentist routinely for a check-up and professional cleaning.  - not smoke.  - eat a well-balanced diet. (For more information, see \"Eating Well As You Get Older\" at  http://nihseniorhealth.gov/eatingwellasyougetolder/toc.html) brush your teeth twice a day (with a fluoride toothpaste). floss regularly to remove plaque from between teeth. Or use a device such as a special pick recommended by a dental professional. visit the dentist routinely for a check-up and professional cleaning. not smoke. eat a well-balanced diet. (For more information, see \"Eating Well As You Get Older\" at  http://nihseniorhealth.gov/eatingwellasyougetolder/toc.html)\n",
      "Similar Questions:\n",
      "How to prevent Oral Cavity and Oropharyngeal Cancer ?\n",
      "Answer: Key Points\n",
      "                    - Avoiding risk factors and increasing protective factors may help prevent cancer.    - The following are risk factors for oral cavity cancer and oropharyngeal cancer:         - Tobacco use     - Alcohol use     - Tobacco and alcohol use     - Betel quid or gutka chewing     - Personal history of head and neck cancer        - The following is a risk factor for oropharyngeal cancer:         - HPV infection        - The following is a protective factor for oral cavity cancer and oropharyngeal cancer:         - Quitting smoking        - It is not clear whether avoiding certain risk factors will decrease the risk of oral cavity cancer or oropharyngeal cancer.    - Cancer prevention clinical trials are used to study ways to prevent cancer.    -  New ways to prevent oral cavity cancer and oropharyngeal cancer are being studied in clinical trials.\n",
      "                \n",
      "                \n",
      "                    Avoiding risk factors and increasing protective factors may help prevent cancer.\n",
      "                    Avoiding cancer risk factors may help prevent certain cancers. Risk factors include smoking, being overweight, and not getting enough exercise. Increasing protective factors such as quitting smoking and exercising may also help prevent some cancers. Talk to your doctor or other health care professional about how you might lower your risk of cancer.    Oral cavity cancer and oropharyngeal cancer are two different diseases, but they have some risk factors in common.\n",
      "                \n",
      "                \n",
      "                    The following are risk factors for oral cavity cancer and oropharyngeal cancer:\n",
      "                    Tobacco use    Using tobacco is the most common cause of oral cavity cancer and oropharyngeal cancer. The risk of these cancers is about 5 to 10 times higher for current smokers than for people who have never smoked.    The use of all types of tobacco, including cigarettes, pipes, cigars, and smokeless tobacco (snuff and chewing tobacco) can cause cancer of the oral cavity and oropharynx. For cigarette smokers, the risk of oral cavity cancer and oropharyngeal cancer increases with the number of cigarettes smoked per day.       Alcohol use    Using alcohol is also an important risk factor for oral cavity cancer and oropharyngeal cancer.    The risk of oral cavity cancer and oropharyngeal cancer increases with the number of alcoholic drinks consumed per day. The risk of oral cavity cancer and oropharyngeal cancer is about twice as high in people who have 3 to 4 alcoholic drinks per day and 5 times higher in people who have 5 or more alcoholic drinks per day compared with those who don't drink alcohol.       Tobacco and alcohol use    The risk of oral cavity cancer and oropharyngeal cancer is 2 to 3 times higher in people who use both tobacco and alcohol than it is in people who use only tobacco or only alcohol. The risk of oral cavity cancer and oropharyngeal cancer is about 35 times higher in people who smoke 2 or more packs of cigarettes per day and have more than 4 alcoholic drinks per day than it is in people who have never smoked cigarettes or consumed alcohol.        Betel quid or gutka chewing    Chewing betel quid or gutka (betel quid mixed with tobacco) has been shown to increase the risk of oral cavity cancer and oropharyngeal cancer. Betel quid contains areca nut, which is a cancer-causing substance. The risk of oral cavity cancer and oropharyngeal cancer increases with how long and how often betel quid or gutka are chewed. The risk for oral cavity cancer and oropharyngeal cancer is higher when chewing gutka than when chewing betel quid alone. Betel quid and gutka chewing is common in many countries in South Asia and Southeast Asia, including China and India.        Personal history of head and neck cancer    A personal history of head and neck cancer increases the risk of oral cavity cancer and oropharyngeal cancer.\n",
      "                \n",
      "                \n",
      "                    The following is a risk factor for oropharyngeal cancer:\n",
      "                    HPV infection    Being infected with certain types of HPV, especially HPV type 16, increases the risk of oropharyngeal cancer. HPV infection is spread mainly through sexual contact.     The risk of oropharyngeal cancer is about 15 times higher in people who have oral HPV 16 infection compared with people who do not have oral HPV 16 infection.\n",
      "                \n",
      "                \n",
      "                    The following is a protective factor for oral cavity cancer and oropharyngeal cancer:\n",
      "                    Quitting smoking    Studies have shown that when people stop smoking cigarettes, their risk of oral cavity cancer and oropharyngeal cancer decreases by one half (50%) within 5 years. Within 20 years of quitting, their risk of oral cavity cancer and oropharyngeal cancer is the same as for a person who never smoked cigarettes.\n",
      "                \n",
      "                \n",
      "                    It is not clear whether avoiding certain risk factors will decrease the risk of oral cavity cancer or oropharyngeal cancer.\n",
      "                    It has not been proven that stopping alcohol use will decrease the risk of oral cavity cancer or oropharyngeal cancer.    Getting an HPV vaccination greatly lessens the risk of oral HPV infection. It is not yet known whether getting an HPV vaccination at any age will decrease the risk of oropharyngeal cancer from HPV infection.\n",
      "                \n",
      "                \n",
      "                    Cancer prevention clinical trials are used to study ways to prevent cancer.\n",
      "                    Cancer prevention clinical trials are used to study ways to lower the risk of certain types of cancer. Some cancer prevention trials are done with healthy people who have not had cancer but who have an increased risk for cancer. Other prevention trials are done with people who have had cancer and are trying to prevent another cancer of the same type or to lower their chance of developing a new type of cancer. Other trials are done with healthy volunteers who are not known to have any risk factors for cancer.    The purpose of some cancer prevention clinical trials is to find out whether actions people take can prevent cancer. These may include eating fruits and vegetables, exercising, quitting smoking, or taking certain medicines, vitamins, minerals, or food supplements.\n",
      "                \n",
      "                \n",
      "                    New ways to prevent oral cavity cancer and oropharyngeal cancer are being studied in clinical trials.\n",
      "                    Clinical trials are taking place in many parts of the country. Information about clinical trials can be found in the Clinical Trials section of the NCI website. Check NCI's list of cancer clinical trials for oral cavity cancer prevention trials and oropharyngeal cancer prevention trials that are now accepting patients.\n",
      "Similar Questions:\n",
      "What are the treatments for Charcot-Marie-Tooth Disease ?\n",
      "Answer: There is no cure for CMT, but physical therapy, occupational therapy, braces and other orthopedic devices, and orthopedic surgery can help people cope with the disabling symptoms of the disease. In addition, pain-killing drugs can be prescribed for patients who have severe pain.\n",
      "\n",
      "\n"
     ]
    }
   ],
   "source": [
    "for i in range(len(top_k_indices[:5])):\n",
    "    print(\"Test Question:\", test_question[i])\n",
    "    print()\n",
    "    for ind in top_k_indices[i]:\n",
    "        print(\"Similar Questions:\")\n",
    "        print(question[ind])\n",
    "        print(\"Answer:\", questions[question[ind]])\n",
    "    print(\"\\n\")"
   ]
  },
  {
   "cell_type": "code",
   "execution_count": 118,
   "id": "c93cf866",
   "metadata": {},
   "outputs": [],
   "source": [
    "dict_to_save = {\n",
    "    \"similarities\": similarities,\n",
    "    \"test_question\": test_question,\n",
    "    \"question\": question,\n",
    "    \"questions\": questions\n",
    "}\n",
    "torch.save(dict_to_save, \"similarities.pth\")"
   ]
  },
  {
   "attachments": {},
   "cell_type": "markdown",
   "id": "ffdaff9a",
   "metadata": {},
   "source": [
    "# Testing on GPT"
   ]
  },
  {
   "attachments": {},
   "cell_type": "markdown",
   "id": "b1f913e2",
   "metadata": {},
   "source": [
    "## Get Top-k similarities"
   ]
  },
  {
   "cell_type": "code",
   "execution_count": null,
   "id": "23d2db42",
   "metadata": {},
   "outputs": [],
   "source": [
    "def get_top_k_similarities(similarities, k):\n",
    "    top_k_indices = np.argsort(similarities, axis=1)[:, -k:][:, ::-1]\n",
    "    return top_k_indices"
   ]
  },
  {
   "attachments": {},
   "cell_type": "markdown",
   "id": "d7017cb4",
   "metadata": {},
   "source": [
    "## Loading stuff up"
   ]
  },
  {
   "cell_type": "code",
   "execution_count": null,
   "id": "884ae21f",
   "metadata": {},
   "outputs": [],
   "source": [
    "import torch\n",
    "from tqdm.notebook import tqdm\n",
    "import numpy as np\n",
    "\n",
    "device = torch.device((\"cuda:0\" if torch.cuda.is_available() else \"cpu\"))\n",
    "preLoaded = torch.load(\"/content/drive/MyDrive/291_I00/similarities.pth\")\n",
    "\n",
    "similarities = preLoaded[\"similarities\"]\n",
    "test_question = preLoaded[\"test_question\"]\n",
    "question = preLoaded[\"question\"]\n",
    "questions = preLoaded[\"questions\"]\n",
    "top_k_indices = get_top_k_similarities(similarities, k=2)"
   ]
  },
  {
   "attachments": {},
   "cell_type": "markdown",
   "id": "1abafe9a",
   "metadata": {},
   "source": [
    "### Getting random 100 question indices"
   ]
  },
  {
   "cell_type": "code",
   "execution_count": null,
   "id": "2b5fcba0",
   "metadata": {},
   "outputs": [],
   "source": [
    "import numpy as np\n",
    "#Set the seed value\n",
    "np.random.seed(42069)\n",
    "\n",
    "random_numbers = np.random.randint(0, 1805, size=100)\n",
    "print(random_numbers)"
   ]
  },
  {
   "attachments": {},
   "cell_type": "markdown",
   "id": "d22d1305",
   "metadata": {},
   "source": [
    "## Openai API"
   ]
  },
  {
   "cell_type": "code",
   "execution_count": null,
   "id": "a3af53ed",
   "metadata": {},
   "outputs": [],
   "source": [
    "import openai\n",
    "\n",
    "# Set your OpenAI API key\n",
    "openai.api_key = 'ENTER_YOUR_API_KEY_HERE'\n",
    "\n",
    "def answer_question_dynamic(prompt):\n",
    "    response = openai.Completion.create(\n",
    "        engine=\"davinci\",\n",
    "        prompt=prompt,\n",
    "        max_tokens=300,\n",
    "        temperature=0.5,\n",
    "        n=1,\n",
    "        stop=None\n",
    "    )\n",
    "    rephrased_sentence = response.choices[0].text.strip().split('\\n')[0]\n",
    "    return rephrased_sentence"
   ]
  },
  {
   "attachments": {},
   "cell_type": "markdown",
   "id": "afa30b97",
   "metadata": {},
   "source": [
    "## Dynamic Prompting"
   ]
  },
  {
   "cell_type": "code",
   "execution_count": null,
   "id": "e23c2ed3",
   "metadata": {},
   "outputs": [
    {
     "data": {
      "application/vnd.jupyter.widget-view+json": {
       "model_id": "51042104bb35475ba1050c2d113e6f09",
       "version_major": 2,
       "version_minor": 0
      },
      "text/plain": [
       "0it [00:00, ?it/s]"
      ]
     },
     "metadata": {},
     "output_type": "display_data"
    }
   ],
   "source": [
    "prompt = \"Imagine that you are a expert medical professional. You are in a clinic and patients asks you medical questions.\\nThe topics for the questions could include Treatment, Diagnosis, Side Effects associated with diseases, drugs and other medical entities such as tests.\\nYour job is to answer them not more than 300 words, in simple yet, informative language.\\nLet's start:\"\n",
    "s_prompt = \"\\n\\nSimilarly, answer the following question: -\"\n",
    "CUTOFF = 300\n",
    "\n",
    "predicted_answers = []\n",
    "for i in tqdm(random_numbers):  # loop over test questions\n",
    "    test = test_question[i]  # extract current test question\n",
    "    train = \"\"\n",
    "    c = 0\n",
    "    for k, ind in enumerate(top_k_indices[i]):  # get k similar questions and answers from train\n",
    "        train += f\"\\n\\nQuestion {k+1}. {question[ind]}\"  # Add the question\n",
    "        train += f\"\\nYour Answer: {(' '.join(questions[question[ind]].split(' ')[:CUTOFF]) )}\" # Add the answer\n",
    "        c = k+1\n",
    "    test = f\"\\n\\nQuestion {c+1}. {test}\" + \"\\nYour Answer: \"\n",
    "    final = prompt + train + s_prompt + test\n",
    "\n",
    "    answer = answer_question_dynamic(final)\n",
    "\n",
    "    predicted_answers.append(answer)\n",
    "\n",
    "    if i%100 == 0:\n",
    "      print(\"saving at\",i)\n",
    "      torch.save({\"pred\":predicted_answers},\"/content/drive/MyDrive/291_I00/predictedDavinci_dynamic.pth\")\n",
    "    # Perform operations or print the values as needed\n",
    "torch.save({\"pred\":predicted_answers},\"/content/drive/MyDrive/291_I00/predictedDavinci_dynamic.pth\")"
   ]
  },
  {
   "cell_type": "code",
   "execution_count": null,
   "metadata": {},
   "outputs": [
    {
     "data": {
      "text/plain": [
       "['What are the signs and symptoms of Normal pressure hydrocephalus? Normal pressure hydrocephalus is a condition that results in the accumulation of cerebrospinal fluid (CSF) in the brain. The signs and symptoms of normal pressure hydrocephalus include: Headache Dementia Urinary incontinence',\n",
       " 'Skin blushing is a common problem, affecting around 80% of people at some time in their lives. It can be triggered by a wide range of situations, including: Embarrassment, anger, fear, and sexual situations.',\n",
       " 'Pneumococcal infections are caused by bacteria called pneumococci. These bacteria can cause infections in the lungs, ears, sinuses, and other parts of the body. ',\n",
       " 'Breathing difficulty (also called shortness of breath, breathlessness, or dyspnea) is usually due to a problem with the lungs, heart, or blood vessels.',\n",
       " 'Celiac disease (also called sprue, nontropical sprue, and gluten intolerance) is a disorder of the small intestine that occurs in genetically predisposed people of all ages. It is characterized by an immune response to the protein gluten, which is found in wheat, rye, and barley.',\n",
       " 'The mission of the National Institute of Neurological Disorders and Stroke (NINDS) is to seek fundamental knowledge abuot the brain and nervous system, and to use that knowledge to reduce the burden of neurological disease. Research supported by the NINDS includes studies to understand how the brain and nervous system normally develop and function and how they are affected by disease and trauma. These studies contribute to a greater understanding of birth defects such as Klippel-Trenaunay Syndrome and open promising new avenues for treatment.',\n",
       " '',\n",
       " 'What are birth control pills - progestin only (mini-pill)?',\n",
       " \"Antiphospholipid syndrome is a disorder characterized by an increased tendency to form abnormal blood clots (thromboses) that can block blood vessels. This clotting tendency is known as thrombophilia. In antiphospholipid syndrome, the thromboses can develop in nearly any blood vessel in the body, but most frequently occur in the vessels of the lower limbs. If a blood clot forms in the vessels in the brain, blood flow is impaired and can lead to stroke. Antiphospholipid syndrome is an autoimmune disorder. Autoimmune disorders occur when the immune system attacks the body's own tissues and organs.  Women with antiphospholipid syndrome are at increased risk of complications during pregnancy. These complications include pregnancy-induced high blood pressure (preeclampsia), an underdeveloped placenta (placental insufficiency), early delivery, or pregnancy loss (miscarriage). In addition, women with antiphospholipid syndrome are at greater risk of having a thrombosis during pregnancy than at other times during their lives. At birth, infants of mothers with antiphospholipid syndrome may be small and underweight.  A thrombosis or pregnancy complication is typically the first sign of antiphospholipid syndrome. This condition usually appears in early to mid-adulthood but can begin at any age.  Other signs and symptoms of antiphosph\",\n",
       " 'The MMR vaccine protects against three serious diseases: measles, mumps, and rubella (German measles). ']"
      ]
     },
     "metadata": {},
     "output_type": "display_data"
    }
   ],
   "source": [
    "predicted_answers[:10]"
   ]
  },
  {
   "cell_type": "code",
   "execution_count": null,
   "id": "d246bcdc",
   "metadata": {},
   "outputs": [],
   "source": [
    "import torch\n",
    "pred = torch.load(\"/content/drive/MyDrive/291_I00/predictedDavinci_dynamic.pth\")[\"pred\"]"
   ]
  },
  {
   "cell_type": "code",
   "execution_count": null,
   "id": "b37eecd5",
   "metadata": {},
   "outputs": [],
   "source": [
    "test_queses = []\n",
    "test_answers = []\n",
    "for i in tqdm(random_numbers):  # loop over test questions\n",
    "    test = test_question[i]  # extract current test question\n",
    "    test_queses.append(test)\n",
    "    test_answers.append(loaded_dict[test])"
   ]
  },
  {
   "attachments": {},
   "cell_type": "markdown",
   "id": "860b13d7",
   "metadata": {},
   "source": [
    "## Metrics"
   ]
  },
  {
   "cell_type": "code",
   "execution_count": null,
   "id": "cefcb64b",
   "metadata": {},
   "outputs": [],
   "source": [
    "from nltk.translate.bleu_score import sentence_bleu, SmoothingFunction\n",
    "from nltk.tokenize import  word_tokenize\n",
    "import numpy as np\n",
    "from rouge import Rouge\n",
    "\n",
    "# See this for input references - https://www.nltk.org/api/nltk.translate.html#nltk.translate.bleu_score.sentence_bleu\n",
    "# A Caption should be a list of strings.\n",
    "# Reference Captions are list of actual captions - list(list(str))\n",
    "# Predicted Caption is the string caption based on your model's output - list(str)\n",
    "# Make sure to process your captions before evaluating bleu scores -\n",
    "# Converting to lower case, Removing tokens like <start>, <end>, padding etc.\n",
    "\n",
    "def bleu1(reference_captions, predicted_caption):\n",
    "    return 100 * sentence_bleu(reference_captions, predicted_caption,\n",
    "                               weights=(1, 0, 0, 0), smoothing_function=SmoothingFunction().method1)\n",
    "\n",
    "\n",
    "def bleu4(reference_captions, predicted_caption):\n",
    "    return 100 * sentence_bleu(reference_captions, predicted_caption,\n",
    "                               weights=(0, 0, 0, 1), smoothing_function=SmoothingFunction().method1)\n",
    "\n",
    "rouge = Rouge()\n",
    "\n",
    "# pred_caption = word_tokenize(pred_caption.lower())\n",
    "\n",
    "ground_truth = test_answers\n",
    "generated_ans = pred\n",
    "\n",
    "Bleu1 = []\n",
    "Bleu4 = []\n",
    "rouge_1_score = []\n",
    "rouge_2_score = []\n",
    "rouge_L_score = []\n",
    "c=0\n",
    "for i in range(len(generated_ans)):\n",
    "    grndAns = ground_truth[i]\n",
    "    gen_ans = generated_ans[i]\n",
    "    \n",
    "    # BLEU SCORES\n",
    "    gen_ans_ = word_tokenize(gen_ans.lower())\n",
    "    grndAns_ = word_tokenize(grndAns.lower())\n",
    "    bleu1_ = bleu1(grndAns_, gen_ans_)\n",
    "    bleu4_ = bleu4(grndAns_, gen_ans_)\n",
    "    Bleu1.append(bleu1_)\n",
    "    Bleu4.append(bleu4_)\n",
    "    \n",
    "    # Rouge\n",
    "    try:\n",
    "      scores = rouge.get_scores(gen_ans, grndAns)\n",
    "      r1s = scores[0]['rouge-1']['f'] # f1 score\n",
    "      r2s = scores[0]['rouge-2']['f']\n",
    "      rLs = scores[0]['rouge-l']['f']\n",
    "      rouge_1_score.append(r1s)\n",
    "      rouge_2_score.append(r2s)\n",
    "      rouge_L_score.append(rLs)\n",
    "    except:\n",
    "      c+=1\n",
    "      continue\n",
    "    \n",
    "print(c)\n",
    "print(\"BLEU 1 Gram: \", np.mean(Bleu1))\n",
    "print(\"BLEU 4 Gram: \", np.mean(Bleu4))\n",
    "print(\"ROUGE 1 Gram:\", np.mean(rouge_1_score))\n",
    "print(\"ROUGE 2 Gram:\", np.mean(rouge_2_score))\n",
    "print(\"ROUGE L Gram:\", np.mean(rouge_L_score))"
   ]
  }
 ],
 "metadata": {
  "kernelspec": {
   "display_name": "Python 3 (ipykernel)",
   "language": "python",
   "name": "python3"
  },
  "language_info": {
   "codemirror_mode": {
    "name": "ipython",
    "version": 3
   },
   "file_extension": ".py",
   "mimetype": "text/x-python",
   "name": "python",
   "nbconvert_exporter": "python",
   "pygments_lexer": "ipython3",
   "version": "3.9.5"
  }
 },
 "nbformat": 4,
 "nbformat_minor": 5
}
