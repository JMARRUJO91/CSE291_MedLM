{
 "cells": [
  {
   "attachments": {},
   "cell_type": "markdown",
   "id": "42579df2",
   "metadata": {},
   "source": [
    "# Importing Data"
   ]
  },
  {
   "attachments": {},
   "cell_type": "markdown",
   "id": "ac2315f0",
   "metadata": {},
   "source": [
    "## Loading the preprocessed medquad data"
   ]
  },
  {
   "cell_type": "code",
   "execution_count": 4,
   "id": "cf656c1f",
   "metadata": {},
   "outputs": [],
   "source": [
    "# load medQuad preprocessed dataset\n",
    "import json\n",
    "\n",
    "# Open the JSON file\n",
    "with open(\"train.json\", 'r') as f:\n",
    "    # Load the contents of the file into a variable\n",
    "    json_data = f.read()\n",
    "\n",
    "# Parse the JSON data into a Python dictionary\n",
    "dataset_raw = json.loads(json_data)"
   ]
  },
  {
   "cell_type": "code",
   "execution_count": 5,
   "id": "1b118648",
   "metadata": {},
   "outputs": [
    {
     "name": "stdout",
     "output_type": "stream",
     "text": [
      "<class 'dict'>\n"
     ]
    }
   ],
   "source": [
    "print(type(dataset_raw))"
   ]
  },
  {
   "cell_type": "code",
   "execution_count": 6,
   "id": "568205f0",
   "metadata": {},
   "outputs": [
    {
     "data": {
      "text/plain": [
       "<function dict.keys>"
      ]
     },
     "execution_count": 6,
     "metadata": {},
     "output_type": "execute_result"
    }
   ],
   "source": [
    "dataset_raw.keys"
   ]
  },
  {
   "cell_type": "code",
   "execution_count": 7,
   "id": "c99755cd",
   "metadata": {},
   "outputs": [],
   "source": [
    "types = set()\n",
    "for k in dataset_raw:\n",
    "  for qa in range(len(dataset_raw[k][\"QAs\"])):\n",
    "    types.add(str(dataset_raw[k][\"QAs\"][qa][\"type\"]))"
   ]
  },
  {
   "cell_type": "code",
   "execution_count": 8,
   "id": "70a7f457",
   "metadata": {},
   "outputs": [
    {
     "data": {
      "text/plain": [
       "{'causes',\n",
       " 'complications',\n",
       " 'considerations',\n",
       " 'exams and tests',\n",
       " 'frequency',\n",
       " 'genetic changes',\n",
       " 'information',\n",
       " 'inheritance',\n",
       " 'outlook',\n",
       " 'prevention',\n",
       " 'research',\n",
       " 'stages',\n",
       " 'support groups',\n",
       " 'susceptibility',\n",
       " 'symptoms',\n",
       " 'treatment'}"
      ]
     },
     "execution_count": 8,
     "metadata": {},
     "output_type": "execute_result"
    }
   ],
   "source": [
    "types"
   ]
  },
  {
   "attachments": {},
   "cell_type": "markdown",
   "id": "839d31fe",
   "metadata": {},
   "source": [
    "## Creating a questions dataframe (lookup table)... (Learned from prev mistake, train set has repeatations that get deleted once you do dictionary lmfao)"
   ]
  },
  {
   "cell_type": "code",
   "execution_count": 9,
   "id": "9838e835",
   "metadata": {},
   "outputs": [
    {
     "data": {
      "application/vnd.jupyter.widget-view+json": {
       "model_id": "baf0be3e32f44929a7149c99c8d88a59",
       "version_major": 2,
       "version_minor": 0
      },
      "text/plain": [
       "  0%|          | 0/5492 [00:00<?, ?it/s]"
      ]
     },
     "metadata": {},
     "output_type": "display_data"
    }
   ],
   "source": [
    "import pandas as pd\n",
    "import warnings\n",
    "from tqdm.notebook import tqdm\n",
    "df = pd.DataFrame(columns=['types', 'questions', 'answers'])\n",
    "for k in tqdm(dataset_raw):\n",
    "  for qa in range(len(dataset_raw[k][\"QAs\"])):    \n",
    "    typee = str(dataset_raw[k][\"QAs\"][qa][\"type\"])\n",
    "    question = str(dataset_raw[k][\"QAs\"][qa][\"question\"])\n",
    "    answer = str(dataset_raw[k][\"QAs\"][qa][\"answer\"])\n",
    "    \n",
    "    # Create a new DataFrame row with the extracted values\n",
    "    new_row = pd.DataFrame([[typee, question, answer]], columns=['types', 'questions', 'answers'])\n",
    "    \n",
    "    # Append the new row to the existing DataFrame\n",
    "    \n",
    "\n",
    "    with warnings.catch_warnings():\n",
    "        warnings.filterwarnings(\"ignore\")\n",
    "        df = df.append(new_row, ignore_index=True)"
   ]
  },
  {
   "cell_type": "code",
   "execution_count": 10,
   "id": "f903590c",
   "metadata": {},
   "outputs": [
    {
     "data": {
      "text/html": [
       "<div>\n",
       "<style scoped>\n",
       "    .dataframe tbody tr th:only-of-type {\n",
       "        vertical-align: middle;\n",
       "    }\n",
       "\n",
       "    .dataframe tbody tr th {\n",
       "        vertical-align: top;\n",
       "    }\n",
       "\n",
       "    .dataframe thead th {\n",
       "        text-align: right;\n",
       "    }\n",
       "</style>\n",
       "<table border=\"1\" class=\"dataframe\">\n",
       "  <thead>\n",
       "    <tr style=\"text-align: right;\">\n",
       "      <th></th>\n",
       "      <th>types</th>\n",
       "      <th>questions</th>\n",
       "      <th>answers</th>\n",
       "    </tr>\n",
       "  </thead>\n",
       "  <tbody>\n",
       "    <tr>\n",
       "      <th>0</th>\n",
       "      <td>information</td>\n",
       "      <td>What is (are) Breast Cancer ?</td>\n",
       "      <td>How Tumors Form The body is made up of many ty...</td>\n",
       "    </tr>\n",
       "    <tr>\n",
       "      <th>1</th>\n",
       "      <td>susceptibility</td>\n",
       "      <td>Who is at risk for Breast Cancer? ?</td>\n",
       "      <td>Some women develop breast cancer and others do...</td>\n",
       "    </tr>\n",
       "    <tr>\n",
       "      <th>2</th>\n",
       "      <td>susceptibility</td>\n",
       "      <td>Who is at risk for Breast Cancer? ?</td>\n",
       "      <td>What Is Cancer Prevention? Cancer prevention i...</td>\n",
       "    </tr>\n",
       "    <tr>\n",
       "      <th>3</th>\n",
       "      <td>exams and tests</td>\n",
       "      <td>How to diagnose Breast Cancer ?</td>\n",
       "      <td>Most cancers in their early, most treatable st...</td>\n",
       "    </tr>\n",
       "    <tr>\n",
       "      <th>4</th>\n",
       "      <td>treatment</td>\n",
       "      <td>What are the treatments for Breast Cancer ?</td>\n",
       "      <td>There are many treatment options for women wit...</td>\n",
       "    </tr>\n",
       "  </tbody>\n",
       "</table>\n",
       "</div>"
      ],
      "text/plain": [
       "             types                                    questions  \\\n",
       "0      information                What is (are) Breast Cancer ?   \n",
       "1   susceptibility          Who is at risk for Breast Cancer? ?   \n",
       "2   susceptibility          Who is at risk for Breast Cancer? ?   \n",
       "3  exams and tests              How to diagnose Breast Cancer ?   \n",
       "4        treatment  What are the treatments for Breast Cancer ?   \n",
       "\n",
       "                                             answers  \n",
       "0  How Tumors Form The body is made up of many ty...  \n",
       "1  Some women develop breast cancer and others do...  \n",
       "2  What Is Cancer Prevention? Cancer prevention i...  \n",
       "3  Most cancers in their early, most treatable st...  \n",
       "4  There are many treatment options for women wit...  "
      ]
     },
     "execution_count": 10,
     "metadata": {},
     "output_type": "execute_result"
    }
   ],
   "source": [
    "df.head()"
   ]
  },
  {
   "attachments": {},
   "cell_type": "markdown",
   "id": "9bdd0900",
   "metadata": {},
   "source": [
    "## Visualizing the question Types"
   ]
  },
  {
   "cell_type": "code",
   "execution_count": 11,
   "id": "05541c4e",
   "metadata": {
    "scrolled": true
   },
   "outputs": [
    {
     "data": {
      "image/png": "[encoded data removed]",
      "text/plain": [
       "<Figure size 432x288 with 1 Axes>"
      ]
     },
     "metadata": {
      "needs_background": "light"
     },
     "output_type": "display_data"
    }
   ],
   "source": [
    "import seaborn as sns\n",
    "import matplotlib.pyplot as plt\n",
    "\n",
    "# Assuming your DataFrame is named 'df' and the categorical column is named 'category'\n",
    "sns.countplot(data=df, x='types')\n",
    "\n",
    "for p in plt.gca().patches:\n",
    "    plt.gca().annotate(f'{p.get_height()}', (p.get_x() + p.get_width() / 2, p.get_height()), ha='center', va='center')\n",
    "    \n",
    "plt.xticks(rotation=45, ha='right')  # Rotate the x-axis labels by 45 degrees\n",
    "plt.tight_layout()  # Adjust the spacing to prevent label overlapping\n",
    "plt.show()"
   ]
  },
  {
   "cell_type": "code",
   "execution_count": 12,
   "id": "863ced62",
   "metadata": {},
   "outputs": [],
   "source": [
    "# df.to_csv('medquad_type_q_a.csv', index=False)"
   ]
  },
  {
   "cell_type": "code",
   "execution_count": 13,
   "id": "17ec9f17",
   "metadata": {
    "scrolled": true
   },
   "outputs": [],
   "source": [
    "# !pip install InstructorEmbedding\n",
    "# !pip install sentence_transformers"
   ]
  },
  {
   "attachments": {},
   "cell_type": "markdown",
   "id": "3a956bcb",
   "metadata": {},
   "source": [
    "# Embedding Starts"
   ]
  },
  {
   "cell_type": "code",
   "execution_count": 14,
   "id": "1709b316",
   "metadata": {
    "scrolled": true
   },
   "outputs": [],
   "source": [
    "from InstructorEmbedding import INSTRUCTOR"
   ]
  },
  {
   "attachments": {},
   "cell_type": "markdown",
   "id": "897c07c0",
   "metadata": {},
   "source": [
    "## Load the instructOR embeddor model"
   ]
  },
  {
   "cell_type": "code",
   "execution_count": 15,
   "id": "1b9a1f6a",
   "metadata": {},
   "outputs": [
    {
     "data": {
      "application/vnd.jupyter.widget-view+json": {
       "model_id": "ac7015269ac34f679558f375caec8317",
       "version_major": 2,
       "version_minor": 0
      },
      "text/plain": [
       "Downloading (…)c7233/.gitattributes:   0%|          | 0.00/1.48k [00:00<?, ?B/s]"
      ]
     },
     "metadata": {},
     "output_type": "display_data"
    },
    {
     "data": {
      "application/vnd.jupyter.widget-view+json": {
       "model_id": "809891d43ce443d5a07f8098d7915590",
       "version_major": 2,
       "version_minor": 0
      },
      "text/plain": [
       "Downloading (…)_Pooling/config.json:   0%|          | 0.00/270 [00:00<?, ?B/s]"
      ]
     },
     "metadata": {},
     "output_type": "display_data"
    },
    {
     "data": {
      "application/vnd.jupyter.widget-view+json": {
       "model_id": "62d21acad4b045f8b819c1970ce3a647",
       "version_major": 2,
       "version_minor": 0
      },
      "text/plain": [
       "Downloading (…)/2_Dense/config.json:   0%|          | 0.00/116 [00:00<?, ?B/s]"
      ]
     },
     "metadata": {},
     "output_type": "display_data"
    },
    {
     "data": {
      "application/vnd.jupyter.widget-view+json": {
       "model_id": "b573ab2810f74615a6b550e1f822ecf0",
       "version_major": 2,
       "version_minor": 0
      },
      "text/plain": [
       "Downloading pytorch_model.bin:   0%|          | 0.00/3.15M [00:00<?, ?B/s]"
      ]
     },
     "metadata": {},
     "output_type": "display_data"
    },
    {
     "data": {
      "application/vnd.jupyter.widget-view+json": {
       "model_id": "015f685a55a347208da5b057df622a68",
       "version_major": 2,
       "version_minor": 0
      },
      "text/plain": [
       "Downloading (…)9fb15c7233/README.md:   0%|          | 0.00/66.3k [00:00<?, ?B/s]"
      ]
     },
     "metadata": {},
     "output_type": "display_data"
    },
    {
     "data": {
      "application/vnd.jupyter.widget-view+json": {
       "model_id": "99c4b6c5f4ea489a9f3dfb7695a90153",
       "version_major": 2,
       "version_minor": 0
      },
      "text/plain": [
       "Downloading (…)b15c7233/config.json:   0%|          | 0.00/1.53k [00:00<?, ?B/s]"
      ]
     },
     "metadata": {},
     "output_type": "display_data"
    },
    {
     "data": {
      "application/vnd.jupyter.widget-view+json": {
       "model_id": "bc302f311f2b463898fff80135c7f281",
       "version_major": 2,
       "version_minor": 0
      },
      "text/plain": [
       "Downloading (…)ce_transformers.json:   0%|          | 0.00/122 [00:00<?, ?B/s]"
      ]
     },
     "metadata": {},
     "output_type": "display_data"
    },
    {
     "data": {
      "application/vnd.jupyter.widget-view+json": {
       "model_id": "9d980304d99c4370bb550f3605c68984",
       "version_major": 2,
       "version_minor": 0
      },
      "text/plain": [
       "Downloading pytorch_model.bin:   0%|          | 0.00/1.34G [00:00<?, ?B/s]"
      ]
     },
     "metadata": {},
     "output_type": "display_data"
    },
    {
     "data": {
      "application/vnd.jupyter.widget-view+json": {
       "model_id": "e86531169acc4973ada2905b4d1fb0a0",
       "version_major": 2,
       "version_minor": 0
      },
      "text/plain": [
       "Downloading (…)nce_bert_config.json:   0%|          | 0.00/53.0 [00:00<?, ?B/s]"
      ]
     },
     "metadata": {},
     "output_type": "display_data"
    },
    {
     "data": {
      "application/vnd.jupyter.widget-view+json": {
       "model_id": "8d22074a3d3e4dc2a2aa2b82d25ec770",
       "version_major": 2,
       "version_minor": 0
      },
      "text/plain": [
       "Downloading (…)cial_tokens_map.json:   0%|          | 0.00/2.20k [00:00<?, ?B/s]"
      ]
     },
     "metadata": {},
     "output_type": "display_data"
    },
    {
     "data": {
      "application/vnd.jupyter.widget-view+json": {
       "model_id": "6a113b24b3974f0ea8a7c1099fcda2f2",
       "version_major": 2,
       "version_minor": 0
      },
      "text/plain": [
       "Downloading spiece.model:   0%|          | 0.00/792k [00:00<?, ?B/s]"
      ]
     },
     "metadata": {},
     "output_type": "display_data"
    },
    {
     "data": {
      "application/vnd.jupyter.widget-view+json": {
       "model_id": "b44a0061dac943c7bcdb5f3ec954cc61",
       "version_major": 2,
       "version_minor": 0
      },
      "text/plain": [
       "Downloading (…)c7233/tokenizer.json:   0%|          | 0.00/2.42M [00:00<?, ?B/s]"
      ]
     },
     "metadata": {},
     "output_type": "display_data"
    },
    {
     "data": {
      "application/vnd.jupyter.widget-view+json": {
       "model_id": "913bb7b0bb454053baa2109761adc2fd",
       "version_major": 2,
       "version_minor": 0
      },
      "text/plain": [
       "Downloading (…)okenizer_config.json:   0%|          | 0.00/2.41k [00:00<?, ?B/s]"
      ]
     },
     "metadata": {},
     "output_type": "display_data"
    },
    {
     "data": {
      "application/vnd.jupyter.widget-view+json": {
       "model_id": "134ca38ac8c64709b930512434fbf407",
       "version_major": 2,
       "version_minor": 0
      },
      "text/plain": [
       "Downloading (…)15c7233/modules.json:   0%|          | 0.00/461 [00:00<?, ?B/s]"
      ]
     },
     "metadata": {},
     "output_type": "display_data"
    },
    {
     "name": "stdout",
     "output_type": "stream",
     "text": [
      "load INSTRUCTOR_Transformer\n",
      "max_seq_length  512\n"
     ]
    }
   ],
   "source": [
    "model = INSTRUCTOR('hkunlp/instructor-large')"
   ]
  },
  {
   "cell_type": "code",
   "execution_count": 16,
   "id": "fde6cbc6",
   "metadata": {},
   "outputs": [],
   "source": [
    "# question = list(questions.keys())"
   ]
  },
  {
   "cell_type": "code",
   "execution_count": 17,
   "id": "29707c87",
   "metadata": {},
   "outputs": [],
   "source": [
    "import numpy as np\n",
    "\n",
    "def make_inst_ques(instruction, question):\n",
    "    return [instruction, question]"
   ]
  },
  {
   "attachments": {},
   "cell_type": "markdown",
   "id": "b52d6da0",
   "metadata": {},
   "source": [
    "## Preprocessing"
   ]
  },
  {
   "cell_type": "code",
   "execution_count": 18,
   "id": "b3b9b482",
   "metadata": {},
   "outputs": [],
   "source": [
    "# Apply the make_inst_ques function on the 'questions' column\n",
    "df['instruction_question'] = df['questions'].apply(lambda x: make_inst_ques(\"Represent the Medicine sentence for retrieval: \", x))"
   ]
  },
  {
   "cell_type": "code",
   "execution_count": 19,
   "id": "6e1d8110",
   "metadata": {},
   "outputs": [
    {
     "data": {
      "text/plain": [
       "['Represent the Medicine sentence for retrieval: ',\n",
       " 'What is (are) Breast Cancer ?']"
      ]
     },
     "execution_count": 19,
     "metadata": {},
     "output_type": "execute_result"
    }
   ],
   "source": [
    "df[\"instruction_question\"][0]"
   ]
  },
  {
   "attachments": {},
   "cell_type": "markdown",
   "id": "7a0ee8e9",
   "metadata": {},
   "source": [
    "## Performing the embedding depending on the question type on train set"
   ]
  },
  {
   "cell_type": "code",
   "execution_count": 20,
   "id": "ef120c9d",
   "metadata": {
    "scrolled": true
   },
   "outputs": [
    {
     "data": {
      "application/vnd.jupyter.widget-view+json": {
       "model_id": "19b2be8b396442338207e60e0a572916",
       "version_major": 2,
       "version_minor": 0
      },
      "text/plain": [
       "  0%|          | 0/16 [00:00<?, ?it/s]"
      ]
     },
     "metadata": {},
     "output_type": "display_data"
    },
    {
     "name": "stdout",
     "output_type": "stream",
     "text": [
      "Embedding causes\n",
      "Embedding complications\n",
      "Embedding considerations\n",
      "Embedding exams and tests\n",
      "Embedding frequency\n",
      "Embedding genetic changes\n",
      "Embedding information\n",
      "Embedding inheritance\n",
      "Embedding outlook\n",
      "Embedding prevention\n",
      "Embedding research\n",
      "Embedding stages\n",
      "Embedding support groups\n",
      "Embedding susceptibility\n",
      "Embedding symptoms\n",
      "Embedding treatment\n"
     ]
    }
   ],
   "source": [
    "from sklearn.metrics.pairwise import cosine_similarity\n",
    "\n",
    "embeddingWRTgroup = {}\n",
    "\n",
    "# Group the DataFrame by the 'category' column\n",
    "grouped = df.groupby('types')\n",
    "\n",
    "# Loop over each group\n",
    "for category, group in tqdm(grouped):\n",
    "    print(\"Embedding\", category)\n",
    "    inst_ques_train = group[\"instruction_question\"].values.tolist()\n",
    "    \n",
    "    embeddingWRTgroup[category] = model.encode(inst_ques_train)  # Embedding the corpus"
   ]
  },
  {
   "attachments": {},
   "cell_type": "markdown",
   "id": "e66b100b",
   "metadata": {},
   "source": [
    "# Testing on GPT"
   ]
  },
  {
   "attachments": {},
   "cell_type": "markdown",
   "id": "0b0f1978",
   "metadata": {},
   "source": [
    "## Reading csv which already has inferred question types using a BERT classifier"
   ]
  },
  {
   "cell_type": "code",
   "execution_count": 22,
   "id": "ac91f8f1",
   "metadata": {},
   "outputs": [],
   "source": [
    "df_test = pd.read_csv(\"test_100_with_pred.csv\")"
   ]
  },
  {
   "attachments": {},
   "cell_type": "markdown",
   "id": "9b6dd04c",
   "metadata": {},
   "source": [
    "## Preprocessing"
   ]
  },
  {
   "cell_type": "code",
   "execution_count": 23,
   "id": "22e1987c",
   "metadata": {},
   "outputs": [],
   "source": [
    "df_test['instruction_question'] = df_test['questions'].apply(lambda x: make_inst_ques(\"Represent the Medicine sentence for retrieval: \", x))"
   ]
  },
  {
   "attachments": {},
   "cell_type": "markdown",
   "id": "b4f34183",
   "metadata": {},
   "source": [
    "## Get Top-k similarities"
   ]
  },
  {
   "cell_type": "code",
   "execution_count": 24,
   "id": "8a9c6e38",
   "metadata": {},
   "outputs": [],
   "source": [
    "def get_top_k_similarities(similarities, k):\n",
    "    top_k_indices = np.argsort(similarities, axis=1)[:, -k:][:, ::-1]\n",
    "    return top_k_indices"
   ]
  },
  {
   "attachments": {},
   "cell_type": "markdown",
   "id": "b9da05f3",
   "metadata": {},
   "source": [
    "## Openai API"
   ]
  },
  {
   "cell_type": "code",
   "execution_count": 26,
   "id": "5ed512ea",
   "metadata": {},
   "outputs": [],
   "source": [
    "import openai\n",
    "\n",
    "# Set your OpenAI API key\n",
    "openai.api_key = 'ENTER_YOUR_API_KEY_HERE'\n",
    "\n",
    "def answer_question_dynamic(prompt):\n",
    "    response = openai.Completion.create(\n",
    "        engine=\"davinci\",\n",
    "        prompt=prompt,\n",
    "        max_tokens=300,\n",
    "        temperature=0.5,\n",
    "        n=1,\n",
    "        stop=None\n",
    "    )\n",
    "    rephrased_sentence = response.choices[0].text.strip().split('\\n')[0]\n",
    "    return rephrased_sentence"
   ]
  },
  {
   "attachments": {},
   "cell_type": "markdown",
   "id": "82c8ff0a",
   "metadata": {},
   "source": [
    "## Dynamic Prompting: Do the inference using cosine similarity depending on the qtype"
   ]
  },
  {
   "cell_type": "code",
   "execution_count": 27,
   "id": "8eeb8cc4",
   "metadata": {
    "scrolled": false
   },
   "outputs": [
    {
     "data": {
      "application/vnd.jupyter.widget-view+json": {
       "model_id": "51042104bb35475ba1050c2d113e6f09",
       "version_major": 2,
       "version_minor": 0
      },
      "text/plain": [
       "0it [00:00, ?it/s]"
      ]
     },
     "metadata": {},
     "output_type": "display_data"
    }
   ],
   "source": [
    "import torch\n",
    "prompt = \"Imagine that you are a expert medical professional. You are in a clinic and patients asks you medical questions.\\nThe topics for the questions could include Treatment, Diagnosis, Side Effects associated with diseases, drugs and other medical entities such as tests.\\nYour job is to answer them not more than 300 words, in simple yet, informative language.\\nLet's start:\"\n",
    "s_prompt = \"\\n\\nSimilarly, answer the following question: -\"\n",
    "CUTOFF = 300\n",
    "\n",
    "predicted_answers = []\n",
    "for index, row in tqdm(df_test.iterrows()):\n",
    "    # Accessing values of each row\n",
    "    test = row[\"questions\"]\n",
    "    inst_ques_test = [row[\"instruction_question\"]]\n",
    "    query_embedding = model.encode(inst_ques_test)\n",
    "    \n",
    "    typee = row[\"pred_types\"]\n",
    "    \n",
    "    similarities = cosine_similarity(query_embedding, embeddingWRTgroup[typee])\n",
    "    \n",
    "    top_k_simi = get_top_k_similarities(similarities, k=2)\n",
    "    \n",
    "    group_type = grouped.get_group(typee)\n",
    "    train = \"\"\n",
    "    c = 0\n",
    "    for k, ind in enumerate(top_k_simi[0]):\n",
    "        row_grp = group_type.iloc[ind]\n",
    "#         print(row_grp['answers'].values)\n",
    "        \n",
    "        train += f\"\\n\\nQuestion {k+1}. {row_grp['questions']}\"  # Add the question\n",
    "        train += f\"\\nAnswer: {(' '.join(row_grp['answers'].split(' ')[:CUTOFF]) )}\" # Add the answer\n",
    "        c = k+1\n",
    "    test = f\"\\nQuestion {c+1}. {test}\" + \"\\nAnswer: \"\n",
    "    final = prompt + train + s_prompt + test\n",
    "    \n",
    "#     print(final)\n",
    "    \n",
    "    answer = answer_question_dynamic(final)\n",
    "\n",
    "    predicted_answers.append(answer)\n",
    "    \n",
    "torch.save(predicted_answers, \"pred_answers100_DP_TopicWise.pth\")"
   ]
  },
  {
   "cell_type": "code",
   "execution_count": 28,
   "id": "f6475d71",
   "metadata": {},
   "outputs": [
    {
     "data": {
      "text/plain": [
       "['What are the signs and symptoms of Normal pressure hydrocephalus? Normal pressure hydrocephalus is a condition that results in the accumulation of cerebrospinal fluid (CSF) in the brain. The signs and symptoms of normal pressure hydrocephalus include: Headache Dementia Urinary incontinence',\n",
       " 'Skin blushing is a common problem, affecting around 80% of people at some time in their lives. It can be triggered by a wide range of situations, including: Embarrassment, anger, fear, and sexual situations.',\n",
       " 'Pneumococcal infections are caused by bacteria called pneumococci. These bacteria can cause infections in the lungs, ears, sinuses, and other parts of the body. ',\n",
       " 'Breathing difficulty (also called shortness of breath, breathlessness, or dyspnea) is usually due to a problem with the lungs, heart, or blood vessels.',\n",
       " 'Celiac disease (also called sprue, nontropical sprue, and gluten intolerance) is a disorder of the small intestine that occurs in genetically predisposed people of all ages. It is characterized by an immune response to the protein gluten, which is found in wheat, rye, and barley.',\n",
       " 'The mission of the National Institute of Neurological Disorders and Stroke (NINDS) is to seek fundamental knowledge abuot the brain and nervous system, and to use that knowledge to reduce the burden of neurological disease. Research supported by the NINDS includes studies to understand how the brain and nervous system normally develop and function and how they are affected by disease and trauma. These studies contribute to a greater understanding of birth defects such as Klippel-Trenaunay Syndrome and open promising new avenues for treatment.',\n",
       " '',\n",
       " 'What are birth control pills - progestin only (mini-pill)?',\n",
       " \"Antiphospholipid syndrome is a disorder characterized by an increased tendency to form abnormal blood clots (thromboses) that can block blood vessels. This clotting tendency is known as thrombophilia. In antiphospholipid syndrome, the thromboses can develop in nearly any blood vessel in the body, but most frequently occur in the vessels of the lower limbs. If a blood clot forms in the vessels in the brain, blood flow is impaired and can lead to stroke. Antiphospholipid syndrome is an autoimmune disorder. Autoimmune disorders occur when the immune system attacks the body's own tissues and organs.  Women with antiphospholipid syndrome are at increased risk of complications during pregnancy. These complications include pregnancy-induced high blood pressure (preeclampsia), an underdeveloped placenta (placental insufficiency), early delivery, or pregnancy loss (miscarriage). In addition, women with antiphospholipid syndrome are at greater risk of having a thrombosis during pregnancy than at other times during their lives. At birth, infants of mothers with antiphospholipid syndrome may be small and underweight.  A thrombosis or pregnancy complication is typically the first sign of antiphospholipid syndrome. This condition usually appears in early to mid-adulthood but can begin at any age.  Other signs and symptoms of antiphosph\",\n",
       " 'The MMR vaccine protects against three serious diseases: measles, mumps, and rubella (German measles). ']"
      ]
     },
     "execution_count": 28,
     "metadata": {},
     "output_type": "execute_result"
    }
   ],
   "source": [
    "predicted_answers[:10]"
   ]
  },
  {
   "cell_type": "code",
   "execution_count": null,
   "id": "2b68a6a1",
   "metadata": {},
   "outputs": [],
   "source": [
    "\n",
    "from nltk.translate.bleu_score import sentence_bleu, SmoothingFunction\n",
    "from nltk.tokenize import  word_tokenize\n",
    "import numpy as np\n",
    "from rouge import Rouge\n",
    "\n",
    "# See this for input references - https://www.nltk.org/api/nltk.translate.html#nltk.translate.bleu_score.sentence_bleu\n",
    "# A Caption should be a list of strings.\n",
    "# Reference Captions are list of actual captions - list(list(str))\n",
    "# Predicted Caption is the string caption based on your model's output - list(str)\n",
    "# Make sure to process your captions before evaluating bleu scores -\n",
    "# Converting to lower case, Removing tokens like <start>, <end>, padding etc.\n",
    "\n",
    "def bleu1(reference_captions, predicted_caption):\n",
    "    return 100 * sentence_bleu(reference_captions, predicted_caption,\n",
    "                               weights=(1, 0, 0, 0), smoothing_function=SmoothingFunction().method1)\n",
    "\n",
    "\n",
    "def bleu4(reference_captions, predicted_caption):\n",
    "    return 100 * sentence_bleu(reference_captions, predicted_caption,\n",
    "                               weights=(0, 0, 0, 1), smoothing_function=SmoothingFunction().method1)\n",
    "\n",
    "rouge = Rouge()\n",
    "\n",
    "# pred_caption = word_tokenize(pred_caption.lower())\n",
    "\n",
    "ground_truth = df_test[\"answers\"].values.tolist()\n",
    "generated_ans = predicted_answers\n",
    "\n",
    "Bleu1 = []\n",
    "Bleu4 = []\n",
    "rouge_1_score = []\n",
    "rouge_2_score = []\n",
    "rouge_L_score = []\n",
    "\n",
    "for i in range(len(ground_truth)):\n",
    "    grndAns = ground_truth[i]\n",
    "    gen_ans = generated_ans[i]\n",
    "    \n",
    "    # BLEU SCORES\n",
    "    gen_ans_ = word_tokenize(gen_ans.lower())\n",
    "    grndAns_ = word_tokenize(grndAns.lower())\n",
    "    bleu1_ = bleu1(grndAns_, gen_ans_)\n",
    "    bleu4_ = bleu4(grndAns_, gen_ans_)\n",
    "    Bleu1.append(bleu1_)\n",
    "    Bleu4.append(bleu4_)\n",
    "    \n",
    "    # Rouge\n",
    "    scores = rouge.get_scores(gen_ans, grndAns)\n",
    "    r1s = scores[0]['rouge-1']['f'] # f1 score\n",
    "    r2s = scores[0]['rouge-2']['f']\n",
    "    rLs = scores[0]['rouge-l']['f']\n",
    "    rouge_1_score.append(r1s)\n",
    "    rouge_2_score.append(r2s)\n",
    "    rouge_L_score.append(rLs)\n",
    "    \n",
    "\n",
    "print(\"BLEU 1 Gram: \", np.mean(Bleu1))\n",
    "print(\"BLEU 4 Gram: \", np.mean(Bleu4))\n",
    "print(\"ROUGE 1 Gram:\", np.mean(rouge_1_score))\n",
    "print(\"ROUGE 2 Gram:\", np.mean(rouge_2_score))\n",
    "print(\"ROUGE L Gram:\", np.mean(rouge_L_score))\n",
    "\n",
    "\n",
    "# dick = {\n",
    "# \"BLEU 1 Gram: \": np.mean(Bleu1),\n",
    "# \"BLEU 4 Gram: \": np.mean(Bleu4),\n",
    "# \"ROUGE 1 Gram:\": np.mean(rouge_1_score),\n",
    "# \"ROUGE 2 Gram:\": np.mean(rouge_2_score),\n",
    "# \"ROUGE L Gram:\": np.mean(rouge_L_score),\n",
    "# \"predictions\": pred_answers\n",
    "# }\n",
    "\n",
    "# torch.save(dick, 'resultsBG.pth')"
   ]
  },
  {
   "attachments": {},
   "cell_type": "markdown",
   "id": "4aab9077",
   "metadata": {},
   "source": [
    "## Reading csv which already has inferred question types using a BERT classifier"
   ]
  },
  {
   "cell_type": "code",
   "execution_count": null,
   "id": "59a39108",
   "metadata": {},
   "outputs": [],
   "source": [
    "df_test = pd.read_csv(\"test_100_with_pred.csv\")"
   ]
  },
  {
   "attachments": {},
   "cell_type": "markdown",
   "id": "3be7a37d",
   "metadata": {},
   "source": [
    "## Preprocessing"
   ]
  },
  {
   "cell_type": "code",
   "execution_count": null,
   "id": "fc96573e",
   "metadata": {},
   "outputs": [],
   "source": [
    "df_test['instruction_question'] = df_test['questions'].apply(lambda x: make_inst_ques(\"Represent the Medicine sentence for retrieval: \", x))"
   ]
  },
  {
   "attachments": {},
   "cell_type": "markdown",
   "id": "7cf12f7e",
   "metadata": {},
   "source": [
    "## Get Top-k similarities"
   ]
  },
  {
   "cell_type": "code",
   "execution_count": null,
   "id": "dbbad7e0",
   "metadata": {},
   "outputs": [],
   "source": [
    "def get_top_k_similarities(similarities, k):\n",
    "    top_k_indices = np.argsort(similarities, axis=1)[:, -k:][:, ::-1]\n",
    "    return top_k_indices"
   ]
  },
  {
   "attachments": {},
   "cell_type": "markdown",
   "id": "b179e644",
   "metadata": {},
   "source": [
    "## Openai API"
   ]
  },
  {
   "cell_type": "code",
   "execution_count": null,
   "id": "be51b333",
   "metadata": {},
   "outputs": [],
   "source": [
    "import openai\n",
    "\n",
    "# Set your OpenAI API key\n",
    "openai.api_key = 'ENTER_YOUR_API_KEY_HERE'\n",
    "\n",
    "def answer_question_dynamic(prompt):\n",
    "    response = openai.Completion.create(\n",
    "        engine=\"davinci\",\n",
    "        prompt=prompt,\n",
    "        max_tokens=300,\n",
    "        temperature=0.5,\n",
    "        n=1,\n",
    "        stop=None\n",
    "    )\n",
    "    rephrased_sentence = response.choices[0].text.strip().split('\\n')[0]\n",
    "    return rephrased_sentence"
   ]
  },
  {
   "attachments": {},
   "cell_type": "markdown",
   "id": "cbbd5028",
   "metadata": {},
   "source": [
    "## Dynamic Prompting: Do the inference using cosine similarity depending on the qtype"
   ]
  },
  {
   "cell_type": "code",
   "execution_count": null,
   "id": "17e332f4",
   "metadata": {},
   "outputs": [
    {
     "data": {
      "application/vnd.jupyter.widget-view+json": {
       "model_id": "51042104bb35475ba1050c2d113e6f09",
       "version_major": 2,
       "version_minor": 0
      },
      "text/plain": [
       "0it [00:00, ?it/s]"
      ]
     },
     "metadata": {},
     "output_type": "display_data"
    }
   ],
   "source": [
    "import torch\n",
    "prompt = \"Imagine that you are a expert medical professional. You are in a clinic and patients asks you medical questions.\\nThe topics for the questions could include Treatment, Diagnosis, Side Effects associated with diseases, drugs and other medical entities such as tests.\\nYour job is to answer them not more than 300 words, in simple yet, informative language.\\nLet's start:\"\n",
    "s_prompt = \"\\n\\nSimilarly, answer the following question: -\"\n",
    "CUTOFF = 300\n",
    "\n",
    "predicted_answers = []\n",
    "for index, row in tqdm(df_test.iterrows()):\n",
    "    # Accessing values of each row\n",
    "    test = row[\"questions\"]\n",
    "    inst_ques_test = [row[\"instruction_question\"]]\n",
    "    query_embedding = model.encode(inst_ques_test)\n",
    "    \n",
    "    typee = row[\"pred_types\"]\n",
    "    \n",
    "    similarities = cosine_similarity(query_embedding, embeddingWRTgroup[typee])\n",
    "    \n",
    "    top_k_simi = get_top_k_similarities(similarities, k=2)\n",
    "    \n",
    "    group_type = grouped.get_group(typee)\n",
    "    train = \"\"\n",
    "    c = 0\n",
    "    for k, ind in enumerate(top_k_simi[0]):\n",
    "        row_grp = group_type.iloc[ind]\n",
    "#         print(row_grp['answers'].values)\n",
    "        \n",
    "        train += f\"\\n\\nQuestion {k+1}. {row_grp['questions']}\"  # Add the question\n",
    "        train += f\"\\nAnswer: {(' '.join(row_grp['answers'].split(' ')[:CUTOFF]) )}\" # Add the answer\n",
    "        c = k+1\n",
    "    test = f\"\\nQuestion {c+1}. {test}\" + \"\\nAnswer: \"\n",
    "    final = prompt + train + s_prompt + test\n",
    "    \n",
    "#     print(final)\n",
    "    \n",
    "    answer = answer_question_dynamic(final)\n",
    "\n",
    "    predicted_answers.append(answer)\n",
    "    \n",
    "torch.save(predicted_answers, \"pred_answers100_DP_TopicWise.pth\")"
   ]
  },
  {
   "cell_type": "code",
   "execution_count": null,
   "id": "a4e1b889",
   "metadata": {},
   "outputs": [
    {
     "data": {
      "text/plain": [
       "['What are the signs and symptoms of Normal pressure hydrocephalus? Normal pressure hydrocephalus is a condition that results in the accumulation of cerebrospinal fluid (CSF) in the brain. The signs and symptoms of normal pressure hydrocephalus include: Headache Dementia Urinary incontinence',\n",
       " 'Skin blushing is a common problem, affecting around 80% of people at some time in their lives. It can be triggered by a wide range of situations, including: Embarrassment, anger, fear, and sexual situations.',\n",
       " 'Pneumococcal infections are caused by bacteria called pneumococci. These bacteria can cause infections in the lungs, ears, sinuses, and other parts of the body. ',\n",
       " 'Breathing difficulty (also called shortness of breath, breathlessness, or dyspnea) is usually due to a problem with the lungs, heart, or blood vessels.',\n",
       " 'Celiac disease (also called sprue, nontropical sprue, and gluten intolerance) is a disorder of the small intestine that occurs in genetically predisposed people of all ages. It is characterized by an immune response to the protein gluten, which is found in wheat, rye, and barley.',\n",
       " 'The mission of the National Institute of Neurological Disorders and Stroke (NINDS) is to seek fundamental knowledge abuot the brain and nervous system, and to use that knowledge to reduce the burden of neurological disease. Research supported by the NINDS includes studies to understand how the brain and nervous system normally develop and function and how they are affected by disease and trauma. These studies contribute to a greater understanding of birth defects such as Klippel-Trenaunay Syndrome and open promising new avenues for treatment.',\n",
       " '',\n",
       " 'What are birth control pills - progestin only (mini-pill)?',\n",
       " \"Antiphospholipid syndrome is a disorder characterized by an increased tendency to form abnormal blood clots (thromboses) that can block blood vessels. This clotting tendency is known as thrombophilia. In antiphospholipid syndrome, the thromboses can develop in nearly any blood vessel in the body, but most frequently occur in the vessels of the lower limbs. If a blood clot forms in the vessels in the brain, blood flow is impaired and can lead to stroke. Antiphospholipid syndrome is an autoimmune disorder. Autoimmune disorders occur when the immune system attacks the body's own tissues and organs.  Women with antiphospholipid syndrome are at increased risk of complications during pregnancy. These complications include pregnancy-induced high blood pressure (preeclampsia), an underdeveloped placenta (placental insufficiency), early delivery, or pregnancy loss (miscarriage). In addition, women with antiphospholipid syndrome are at greater risk of having a thrombosis during pregnancy than at other times during their lives. At birth, infants of mothers with antiphospholipid syndrome may be small and underweight.  A thrombosis or pregnancy complication is typically the first sign of antiphospholipid syndrome. This condition usually appears in early to mid-adulthood but can begin at any age.  Other signs and symptoms of antiphosph\",\n",
       " 'The MMR vaccine protects against three serious diseases: measles, mumps, and rubella (German measles). ']"
      ]
     },
     "metadata": {},
     "output_type": "display_data"
    }
   ],
   "source": [
    "predicted_answers[:10]"
   ]
  },
  {
   "cell_type": "code",
   "execution_count": null,
   "id": "eca2f150",
   "metadata": {},
   "outputs": [],
   "source": [
    "\n",
    "from nltk.translate.bleu_score import sentence_bleu, SmoothingFunction\n",
    "from nltk.tokenize import  word_tokenize\n",
    "import numpy as np\n",
    "from rouge import Rouge\n",
    "\n",
    "# See this for input references - https://www.nltk.org/api/nltk.translate.html#nltk.translate.bleu_score.sentence_bleu\n",
    "# A Caption should be a list of strings.\n",
    "# Reference Captions are list of actual captions - list(list(str))\n",
    "# Predicted Caption is the string caption based on your model's output - list(str)\n",
    "# Make sure to process your captions before evaluating bleu scores -\n",
    "# Converting to lower case, Removing tokens like <start>, <end>, padding etc.\n",
    "\n",
    "def bleu1(reference_captions, predicted_caption):\n",
    "    return 100 * sentence_bleu(reference_captions, predicted_caption,\n",
    "                               weights=(1, 0, 0, 0), smoothing_function=SmoothingFunction().method1)\n",
    "\n",
    "\n",
    "def bleu4(reference_captions, predicted_caption):\n",
    "    return 100 * sentence_bleu(reference_captions, predicted_caption,\n",
    "                               weights=(0, 0, 0, 1), smoothing_function=SmoothingFunction().method1)\n",
    "\n",
    "rouge = Rouge()\n",
    "\n",
    "# pred_caption = word_tokenize(pred_caption.lower())\n",
    "\n",
    "ground_truth = df_test[\"answers\"].values.tolist()\n",
    "generated_ans = predicted_answers\n",
    "\n",
    "Bleu1 = []\n",
    "Bleu4 = []\n",
    "rouge_1_score = []\n",
    "rouge_2_score = []\n",
    "rouge_L_score = []\n",
    "\n",
    "for i in range(len(ground_truth)):\n",
    "    grndAns = ground_truth[i]\n",
    "    gen_ans = generated_ans[i]\n",
    "    \n",
    "    # BLEU SCORES\n",
    "    gen_ans_ = word_tokenize(gen_ans.lower())\n",
    "    grndAns_ = word_tokenize(grndAns.lower())\n",
    "    bleu1_ = bleu1(grndAns_, gen_ans_)\n",
    "    bleu4_ = bleu4(grndAns_, gen_ans_)\n",
    "    Bleu1.append(bleu1_)\n",
    "    Bleu4.append(bleu4_)\n",
    "    \n",
    "    # Rouge\n",
    "    scores = rouge.get_scores(gen_ans, grndAns)\n",
    "    r1s = scores[0]['rouge-1']['f'] # f1 score\n",
    "    r2s = scores[0]['rouge-2']['f']\n",
    "    rLs = scores[0]['rouge-l']['f']\n",
    "    rouge_1_score.append(r1s)\n",
    "    rouge_2_score.append(r2s)\n",
    "    rouge_L_score.append(rLs)\n",
    "    \n",
    "\n",
    "print(\"BLEU 1 Gram: \", np.mean(Bleu1))\n",
    "print(\"BLEU 4 Gram: \", np.mean(Bleu4))\n",
    "print(\"ROUGE 1 Gram:\", np.mean(rouge_1_score))\n",
    "print(\"ROUGE 2 Gram:\", np.mean(rouge_2_score))\n",
    "print(\"ROUGE L Gram:\", np.mean(rouge_L_score))\n",
    "\n",
    "\n",
    "# dick = {\n",
    "# \"BLEU 1 Gram: \": np.mean(Bleu1),\n",
    "# \"BLEU 4 Gram: \": np.mean(Bleu4),\n",
    "# \"ROUGE 1 Gram:\": np.mean(rouge_1_score),\n",
    "# \"ROUGE 2 Gram:\": np.mean(rouge_2_score),\n",
    "# \"ROUGE L Gram:\": np.mean(rouge_L_score),\n",
    "# \"predictions\": pred_answers\n",
    "# }\n",
    "\n",
    "# torch.save(dick, 'resultsBG.pth')"
   ]
  }
 ],
 "metadata": {
  "kernelspec": {
   "display_name": "Python 3 (ipykernel)",
   "language": "python",
   "name": "python3"
  },
  "language_info": {
   "codemirror_mode": {
    "name": "ipython",
    "version": 3
   },
   "file_extension": ".py",
   "mimetype": "text/x-python",
   "name": "python",
   "nbconvert_exporter": "python",
   "pygments_lexer": "ipython3",
   "version": "3.9.5"
  }
 },
 "nbformat": 4,
 "nbformat_minor": 5
}
