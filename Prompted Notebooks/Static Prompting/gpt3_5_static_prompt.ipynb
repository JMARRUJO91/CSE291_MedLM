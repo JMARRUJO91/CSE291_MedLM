{
  "cells": [
    {
      "cell_type": "markdown",
      "source": [
        "## Imports and Installs"
      ],
      "metadata": {
        "id": "G4Tq_WqvrAsP"
      }
    },
    {
      "cell_type": "code",
      "execution_count": null,
      "metadata": {
        "id": "A5Oss4bjUCpw"
      },
      "outputs": [],
      "source": [
        "import pandas as pd"
      ]
    },
    {
      "cell_type": "code",
      "source": [
        "## load the dataset\n",
        "df = pd.read_csv('new_dataset.csv')"
      ],
      "metadata": {
        "id": "sRlTnaaIKaRv"
      },
      "execution_count": null,
      "outputs": []
    },
    {
      "cell_type": "code",
      "execution_count": null,
      "metadata": {
        "colab": {
          "base_uri": "https://localhost:8080/"
        },
        "id": "FAQnr8rF1ebI",
        "outputId": "fabc24b3-58db-486e-bd24-347d7a2c53bf"
      },
      "outputs": [
        {
          "output_type": "stream",
          "name": "stdout",
          "text": [
            "Looking in indexes: https://pypi.org/simple, https://us-python.pkg.dev/colab-wheels/public/simple/\n",
            "Collecting openai\n",
            "  Downloading openai-0.27.7-py3-none-any.whl (71 kB)\n",
            "\u001b[2K     \u001b[90m━━━━━━━━━━━━━━━━━━━━━━━━━━━━━━━━━━━━━━━━\u001b[0m \u001b[32m72.0/72.0 kB\u001b[0m \u001b[31m3.6 MB/s\u001b[0m eta \u001b[36m0:00:00\u001b[0m\n",
            "\u001b[?25hRequirement already satisfied: requests>=2.20 in /usr/local/lib/python3.10/dist-packages (from openai) (2.27.1)\n",
            "Requirement already satisfied: tqdm in /usr/local/lib/python3.10/dist-packages (from openai) (4.65.0)\n",
            "Collecting aiohttp (from openai)\n",
            "  Downloading aiohttp-3.8.4-cp310-cp310-manylinux_2_17_x86_64.manylinux2014_x86_64.whl (1.0 MB)\n",
            "\u001b[2K     \u001b[90m━━━━━━━━━━━━━━━━━━━━━━━━━━━━━━━━━━━━━━━━\u001b[0m \u001b[32m1.0/1.0 MB\u001b[0m \u001b[31m25.1 MB/s\u001b[0m eta \u001b[36m0:00:00\u001b[0m\n",
            "\u001b[?25hRequirement already satisfied: urllib3<1.27,>=1.21.1 in /usr/local/lib/python3.10/dist-packages (from requests>=2.20->openai) (1.26.15)\n",
            "Requirement already satisfied: certifi>=2017.4.17 in /usr/local/lib/python3.10/dist-packages (from requests>=2.20->openai) (2022.12.7)\n",
            "Requirement already satisfied: charset-normalizer~=2.0.0 in /usr/local/lib/python3.10/dist-packages (from requests>=2.20->openai) (2.0.12)\n",
            "Requirement already satisfied: idna<4,>=2.5 in /usr/local/lib/python3.10/dist-packages (from requests>=2.20->openai) (3.4)\n",
            "Requirement already satisfied: attrs>=17.3.0 in /usr/local/lib/python3.10/dist-packages (from aiohttp->openai) (23.1.0)\n",
            "Collecting multidict<7.0,>=4.5 (from aiohttp->openai)\n",
            "  Downloading multidict-6.0.4-cp310-cp310-manylinux_2_17_x86_64.manylinux2014_x86_64.whl (114 kB)\n",
            "\u001b[2K     \u001b[90m━━━━━━━━━━━━━━━━━━━━━━━━━━━━━━━━━━━━━━\u001b[0m \u001b[32m114.5/114.5 kB\u001b[0m \u001b[31m16.1 MB/s\u001b[0m eta \u001b[36m0:00:00\u001b[0m\n",
            "\u001b[?25hCollecting async-timeout<5.0,>=4.0.0a3 (from aiohttp->openai)\n",
            "  Downloading async_timeout-4.0.2-py3-none-any.whl (5.8 kB)\n",
            "Collecting yarl<2.0,>=1.0 (from aiohttp->openai)\n",
            "  Downloading yarl-1.9.2-cp310-cp310-manylinux_2_17_x86_64.manylinux2014_x86_64.whl (268 kB)\n",
            "\u001b[2K     \u001b[90m━━━━━━━━━━━━━━━━━━━━━━━━━━━━━━━━━━━━━━\u001b[0m \u001b[32m268.8/268.8 kB\u001b[0m \u001b[31m33.5 MB/s\u001b[0m eta \u001b[36m0:00:00\u001b[0m\n",
            "\u001b[?25hCollecting frozenlist>=1.1.1 (from aiohttp->openai)\n",
            "  Downloading frozenlist-1.3.3-cp310-cp310-manylinux_2_5_x86_64.manylinux1_x86_64.manylinux_2_17_x86_64.manylinux2014_x86_64.whl (149 kB)\n",
            "\u001b[2K     \u001b[90m━━━━━━━━━━━━━━━━━━━━━━━━━━━━━━━━━━━━━━\u001b[0m \u001b[32m149.6/149.6 kB\u001b[0m \u001b[31m20.4 MB/s\u001b[0m eta \u001b[36m0:00:00\u001b[0m\n",
            "\u001b[?25hCollecting aiosignal>=1.1.2 (from aiohttp->openai)\n",
            "  Downloading aiosignal-1.3.1-py3-none-any.whl (7.6 kB)\n",
            "Installing collected packages: multidict, frozenlist, async-timeout, yarl, aiosignal, aiohttp, openai\n",
            "Successfully installed aiohttp-3.8.4 aiosignal-1.3.1 async-timeout-4.0.2 frozenlist-1.3.3 multidict-6.0.4 openai-0.27.7 yarl-1.9.2\n"
          ]
        }
      ],
      "source": [
        "!pip install openai"
      ]
    },
    {
      "cell_type": "code",
      "execution_count": null,
      "metadata": {
        "id": "3AuqhRIr9cun"
      },
      "outputs": [],
      "source": [
        "import openai"
      ]
    },
    {
      "cell_type": "markdown",
      "source": [
        "## Prepare the prompt\n"
      ],
      "metadata": {
        "id": "cNmLuIlIrQub"
      }
    },
    {
      "cell_type": "code",
      "source": [
        "'''\n",
        "Having two sample question and answers handpicked fromt the dataset\n",
        "'''\n",
        "\n",
        "ques = \"Imagine that you are a expert medical professional. You are in a clinic and patients asks you medical questions.\\nThe topics for the questions could include Treatment, Diagnosis, Side Effects associated with diseases, drugs and other medical entities such as tests.\\nYour job is to answer them not more than 300 words, in simple yet, informative language.\\nLet's start:\\n\\nQuestion 1. What are the symptoms of Dry Eye ?\\nYour Answer: Dry eye symptoms may include any of the following.  stinging or burning of the eye  a sandy or gritty feeling as if something is in the eye  episodes of excess tears following very dry eye periods  a stringy discharge from the eye  pain and redness of the eye  episodes of blurred vision  heavy eyelids  inability to cry when emotionally stressed  uncomfortable contact lenses  decreased ability to read, work on the computer, or do any activity that requires you to use your eyes for long periods of time  eye fatigue. stinging or burning of the eye a sandy or gritty feeling as if something is in the eye episodes of excess tears following very dry eye periods a stringy discharge from the eye pain and redness of the eye episodes of blurred vision heavy eyelids inability to cry when emotionally stressed uncomfortable contact lenses decreased ability to read, work on the computer, or do any activity that requires you to use your eyes for long periods of time eye fatigue. If you have symptoms that you think could result from dry eye, consult an eye care professional to get an accurate diagnosis of the condition and begin treatment.\\n\\nQuestion 2. What are the treatments for Diabetes ?\\nYour Answer: Diabetes is a very serious disease. Over time, diabetes that is not well managed causes serious damage to the eyes, kidneys, nerves, and heart, gums and teeth. If you have diabetes, you are more likely than someone who does not have diabetes to have heart disease or a stroke. People with diabetes also tend to develop heart disease or stroke at an earlier age than others. The best way to protect yourself from the serious complications of diabetes is to manage your blood glucose, blood pressure, and cholesterol and avoid smoking. It is not always easy, but people who make an ongoing effort to manage their diabetes can greatly improve their overall health.\"\n",
        "\n",
        "\n",
        "Fquestion = \"\\n\\nQuestion 3. \" + ques\n",
        "ans = \"\\nYour Answer: \" "
      ],
      "metadata": {
        "id": "bNLoY3ldOqUf"
      },
      "execution_count": null,
      "outputs": []
    },
    {
      "cell_type": "markdown",
      "source": [
        "## Generator function "
      ],
      "metadata": {
        "id": "T1BLDlZqriDe"
      }
    },
    {
      "cell_type": "code",
      "execution_count": null,
      "metadata": {
        "id": "T5jrOsXP1d1H"
      },
      "outputs": [],
      "source": [
        "import openai\n",
        "\n",
        "# Set your OpenAI API key\n",
        "openai.api_key = ''\n",
        "\n",
        "def answer_question(question):\n",
        "    Fquestion = \"\\n\\nQuestion 3. \" + question\n",
        "    prompt = ques + Fquestion  + ans\n",
        "    response = openai.Completion.create(\n",
        "        engine=\"davinci\",\n",
        "        prompt=prompt,\n",
        "        max_tokens=150,\n",
        "        temperature=0.5,\n",
        "        n=1,\n",
        "        stop=None\n",
        "    )\n",
        "    rephrased_sentence = response.choices[0].text.strip().split('\\n')[0]\n",
        "    return rephrased_sentence\n",
        "\n",
        "# Example usage\n",
        "# question = \"how does malaria occur\"\n",
        "# answer = answer_question(question)\n",
        "# print(f\"Original Question: {question}\")\n",
        "# print(f\"Answer: {answer}\")"
      ]
    },
    {
      "cell_type": "code",
      "source": [
        "df.head()"
      ],
      "metadata": {
        "colab": {
          "base_uri": "https://localhost:8080/",
          "height": 337
        },
        "id": "ottGMnmBKu79",
        "outputId": "980084f2-2476-4f40-f4bf-37dd3a0791ed"
      },
      "execution_count": null,
      "outputs": [
        {
          "output_type": "execute_result",
          "data": {
            "text/plain": [
              "                AnswerID                                             Answer  \\\n",
              "0  ADAM_0003147_Sec1.txt  Question: What is (are) Polycystic ovary syndr...   \n",
              "1  ADAM_0003147_Sec2.txt  Question: What causes Polycystic ovary syndrom...   \n",
              "2  ADAM_0002818_Sec2.txt  Question: What causes Noonan syndrome ?\\nURL: ...   \n",
              "3  ADAM_0002818_Sec7.txt  Question: What are the complications of Noonan...   \n",
              "4  ADAM_0002818_Sec9.txt  Question: How to prevent Noonan syndrome ?\\nUR...   \n",
              "\n",
              "                                  Extracted_Question  \\\n",
              "0  What is (are) Polycystic ovary syndrome ? (Als...   \n",
              "1  What causes Polycystic ovary syndrome ? (Also ...   \n",
              "2                      What causes Noonan syndrome ?   \n",
              "3    What are the complications of Noonan syndrome ?   \n",
              "4                   How to prevent Noonan syndrome ?   \n",
              "\n",
              "                                    Extracted_Answer  \n",
              "0  Polycystic ovary syndrome is a condition in wh...  \n",
              "1  PCOS is linked to changes in hormone levels th...  \n",
              "2  Noonan syndrome is linked to defects in severa...  \n",
              "3  - Buildup of fluid in tissues of body (lymphed...  \n",
              "4  Couples with a family history of Noonan syndro...  "
            ],
            "text/html": [
              "\n",
              "  <div id=\"df-11e57093-bd87-4238-ac02-c8fb4c49a999\">\n",
              "    <div class=\"colab-df-container\">\n",
              "      <div>\n",
              "<style scoped>\n",
              "    .dataframe tbody tr th:only-of-type {\n",
              "        vertical-align: middle;\n",
              "    }\n",
              "\n",
              "    .dataframe tbody tr th {\n",
              "        vertical-align: top;\n",
              "    }\n",
              "\n",
              "    .dataframe thead th {\n",
              "        text-align: right;\n",
              "    }\n",
              "</style>\n",
              "<table border=\"1\" class=\"dataframe\">\n",
              "  <thead>\n",
              "    <tr style=\"text-align: right;\">\n",
              "      <th></th>\n",
              "      <th>AnswerID</th>\n",
              "      <th>Answer</th>\n",
              "      <th>Extracted_Question</th>\n",
              "      <th>Extracted_Answer</th>\n",
              "    </tr>\n",
              "  </thead>\n",
              "  <tbody>\n",
              "    <tr>\n",
              "      <th>0</th>\n",
              "      <td>ADAM_0003147_Sec1.txt</td>\n",
              "      <td>Question: What is (are) Polycystic ovary syndr...</td>\n",
              "      <td>What is (are) Polycystic ovary syndrome ? (Als...</td>\n",
              "      <td>Polycystic ovary syndrome is a condition in wh...</td>\n",
              "    </tr>\n",
              "    <tr>\n",
              "      <th>1</th>\n",
              "      <td>ADAM_0003147_Sec2.txt</td>\n",
              "      <td>Question: What causes Polycystic ovary syndrom...</td>\n",
              "      <td>What causes Polycystic ovary syndrome ? (Also ...</td>\n",
              "      <td>PCOS is linked to changes in hormone levels th...</td>\n",
              "    </tr>\n",
              "    <tr>\n",
              "      <th>2</th>\n",
              "      <td>ADAM_0002818_Sec2.txt</td>\n",
              "      <td>Question: What causes Noonan syndrome ?\\nURL: ...</td>\n",
              "      <td>What causes Noonan syndrome ?</td>\n",
              "      <td>Noonan syndrome is linked to defects in severa...</td>\n",
              "    </tr>\n",
              "    <tr>\n",
              "      <th>3</th>\n",
              "      <td>ADAM_0002818_Sec7.txt</td>\n",
              "      <td>Question: What are the complications of Noonan...</td>\n",
              "      <td>What are the complications of Noonan syndrome ?</td>\n",
              "      <td>- Buildup of fluid in tissues of body (lymphed...</td>\n",
              "    </tr>\n",
              "    <tr>\n",
              "      <th>4</th>\n",
              "      <td>ADAM_0002818_Sec9.txt</td>\n",
              "      <td>Question: How to prevent Noonan syndrome ?\\nUR...</td>\n",
              "      <td>How to prevent Noonan syndrome ?</td>\n",
              "      <td>Couples with a family history of Noonan syndro...</td>\n",
              "    </tr>\n",
              "  </tbody>\n",
              "</table>\n",
              "</div>\n",
              "      <button class=\"colab-df-convert\" onclick=\"convertToInteractive('df-11e57093-bd87-4238-ac02-c8fb4c49a999')\"\n",
              "              title=\"Convert this dataframe to an interactive table.\"\n",
              "              style=\"display:none;\">\n",
              "        \n",
              "  <svg xmlns=\"http://www.w3.org/2000/svg\" height=\"24px\"viewBox=\"0 0 24 24\"\n",
              "       width=\"24px\">\n",
              "    <path d=\"M0 0h24v24H0V0z\" fill=\"none\"/>\n",
              "    <path d=\"M18.56 5.44l.94 2.06.94-2.06 2.06-.94-2.06-.94-.94-2.06-.94 2.06-2.06.94zm-11 1L8.5 8.5l.94-2.06 2.06-.94-2.06-.94L8.5 2.5l-.94 2.06-2.06.94zm10 10l.94 2.06.94-2.06 2.06-.94-2.06-.94-.94-2.06-.94 2.06-2.06.94z\"/><path d=\"M17.41 7.96l-1.37-1.37c-.4-.4-.92-.59-1.43-.59-.52 0-1.04.2-1.43.59L10.3 9.45l-7.72 7.72c-.78.78-.78 2.05 0 2.83L4 21.41c.39.39.9.59 1.41.59.51 0 1.02-.2 1.41-.59l7.78-7.78 2.81-2.81c.8-.78.8-2.07 0-2.86zM5.41 20L4 18.59l7.72-7.72 1.47 1.35L5.41 20z\"/>\n",
              "  </svg>\n",
              "      </button>\n",
              "      \n",
              "  <style>\n",
              "    .colab-df-container {\n",
              "      display:flex;\n",
              "      flex-wrap:wrap;\n",
              "      gap: 12px;\n",
              "    }\n",
              "\n",
              "    .colab-df-convert {\n",
              "      background-color: #E8F0FE;\n",
              "      border: none;\n",
              "      border-radius: 50%;\n",
              "      cursor: pointer;\n",
              "      display: none;\n",
              "      fill: #1967D2;\n",
              "      height: 32px;\n",
              "      padding: 0 0 0 0;\n",
              "      width: 32px;\n",
              "    }\n",
              "\n",
              "    .colab-df-convert:hover {\n",
              "      background-color: #E2EBFA;\n",
              "      box-shadow: 0px 1px 2px rgba(60, 64, 67, 0.3), 0px 1px 3px 1px rgba(60, 64, 67, 0.15);\n",
              "      fill: #174EA6;\n",
              "    }\n",
              "\n",
              "    [theme=dark] .colab-df-convert {\n",
              "      background-color: #3B4455;\n",
              "      fill: #D2E3FC;\n",
              "    }\n",
              "\n",
              "    [theme=dark] .colab-df-convert:hover {\n",
              "      background-color: #434B5C;\n",
              "      box-shadow: 0px 1px 3px 1px rgba(0, 0, 0, 0.15);\n",
              "      filter: drop-shadow(0px 1px 2px rgba(0, 0, 0, 0.3));\n",
              "      fill: #FFFFFF;\n",
              "    }\n",
              "  </style>\n",
              "\n",
              "      <script>\n",
              "        const buttonEl =\n",
              "          document.querySelector('#df-11e57093-bd87-4238-ac02-c8fb4c49a999 button.colab-df-convert');\n",
              "        buttonEl.style.display =\n",
              "          google.colab.kernel.accessAllowed ? 'block' : 'none';\n",
              "\n",
              "        async function convertToInteractive(key) {\n",
              "          const element = document.querySelector('#df-11e57093-bd87-4238-ac02-c8fb4c49a999');\n",
              "          const dataTable =\n",
              "            await google.colab.kernel.invokeFunction('convertToInteractive',\n",
              "                                                     [key], {});\n",
              "          if (!dataTable) return;\n",
              "\n",
              "          const docLinkHtml = 'Like what you see? Visit the ' +\n",
              "            '<a target=\"_blank\" href=https://colab.research.google.com/notebooks/data_table.ipynb>data table notebook</a>'\n",
              "            + ' to learn more about interactive tables.';\n",
              "          element.innerHTML = '';\n",
              "          dataTable['output_type'] = 'display_data';\n",
              "          await google.colab.output.renderOutput(dataTable, element);\n",
              "          const docLink = document.createElement('div');\n",
              "          docLink.innerHTML = docLinkHtml;\n",
              "          element.appendChild(docLink);\n",
              "        }\n",
              "      </script>\n",
              "    </div>\n",
              "  </div>\n",
              "  "
            ]
          },
          "metadata": {},
          "execution_count": 7
        }
      ]
    },
    {
      "cell_type": "markdown",
      "source": [
        "## Getting the answers from the API given the prompts"
      ],
      "metadata": {
        "id": "3kg9CBPprrty"
      }
    },
    {
      "cell_type": "code",
      "execution_count": null,
      "metadata": {
        "id": "DyejvI94_5p1",
        "colab": {
          "base_uri": "https://localhost:8080/",
          "height": 49,
          "referenced_widgets": [
            "b55ce9c39e44487ea5f48a8df70f5d68",
            "5418bc840ef5433fbe05cf6cf48bde62",
            "0bcfdc1a220d4430bb795fe11a2cf3aa",
            "c8d4b732b77f44ac9f2df9b5dd9c48f0",
            "d0d276ccdf8a446da8d89bd36743eac2",
            "03edecf032be42388fd045131d351ae4",
            "e4757ff096dc4d5785b74b764835325a",
            "aa0c7b8213a14a74a907ed90d9a32de4",
            "35a88665f72d40d292ef088c15e7aa82",
            "07238e4bfcf840348c8bf167c1a62882",
            "cda9718b14a04b29a5d928766e2b13f0"
          ]
        },
        "outputId": "b65eabba-8c0c-448d-b5ad-deee49a6f627"
      },
      "outputs": [
        {
          "output_type": "display_data",
          "data": {
            "text/plain": [
              "0it [00:00, ?it/s]"
            ],
            "application/vnd.jupyter.widget-view+json": {
              "version_major": 2,
              "version_minor": 0,
              "model_id": "b55ce9c39e44487ea5f48a8df70f5d68"
            }
          },
          "metadata": {}
        }
      ],
      "source": [
        "import torch\n",
        "from tqdm.notebook import tqdm\n",
        "predicted_answers = []\n",
        "for index, row in tqdm(df.iterrows()):\n",
        "    #print(index)\n",
        "    # Access the values of each column for the current row\n",
        "    # print(row['Extracted_Question'])\n",
        "    question = row['Extracted_Question']\n",
        "    answer = answer_question(question)\n",
        "    # print(answer)\n",
        "    predicted_answers.append(answer)\n",
        "\n",
        "    if index%100 == 0:\n",
        "      torch.save({\"pred\":predicted_answers},\"/content/drive/MyDrive/results/predictedDavinci.pth\")\n",
        "    # Perform operations or print the values as needed\n",
        "torch.save({\"pred\":predicted_answers},\"/content/drive/MyDrive/results/predictedDavinci.pth\")"
      ]
    },
    {
      "cell_type": "code",
      "source": [
        "from google.colab import drive\n",
        "drive.mount('/content/drive')"
      ],
      "metadata": {
        "colab": {
          "base_uri": "https://localhost:8080/"
        },
        "id": "OigsFRixuZ_g",
        "outputId": "3df9c54e-ea58-4b08-8591-2d57715d46a6"
      },
      "execution_count": null,
      "outputs": [
        {
          "output_type": "stream",
          "name": "stdout",
          "text": [
            "Mounted at /content/drive\n"
          ]
        }
      ]
    },
    {
      "cell_type": "code",
      "source": [
        "import pickle\n",
        "\n",
        "file_path = 'predicted_answers.pickle'\n",
        "\n",
        "# Save the list using pickle\n",
        "with open(file_path, 'wb') as file:\n",
        "    pickle.dump(predicted_answers, file)"
      ],
      "metadata": {
        "id": "tvr06cKIPe-v"
      },
      "execution_count": null,
      "outputs": []
    },
    {
      "cell_type": "code",
      "source": [
        "import torch\n",
        "pred = torch.load(\"/content/drive/MyDrive/results/predictedDavinci.pth\")[\"pred\"]"
      ],
      "metadata": {
        "id": "Pt7WciK7rrqv"
      },
      "execution_count": null,
      "outputs": []
    }
  ],
  "metadata": {
    "accelerator": "GPU",
    "colab": {
      "machine_shape": "hm",
      "provenance": [],
      "gpuType": "T4"
    },
    "gpuClass": "standard",
    "kernelspec": {
      "display_name": "Python 3",
      "name": "python3"
    },
    "language_info": {
      "name": "python"
    },
    "widgets": {
      "application/vnd.jupyter.widget-state+json": {
        "b55ce9c39e44487ea5f48a8df70f5d68": {
          "model_module": "@jupyter-widgets/controls",
          "model_name": "HBoxModel",
          "model_module_version": "1.5.0",
          "state": {
            "_dom_classes": [],
            "_model_module": "@jupyter-widgets/controls",
            "_model_module_version": "1.5.0",
            "_model_name": "HBoxModel",
            "_view_count": null,
            "_view_module": "@jupyter-widgets/controls",
            "_view_module_version": "1.5.0",
            "_view_name": "HBoxView",
            "box_style": "",
            "children": [
              "IPY_MODEL_5418bc840ef5433fbe05cf6cf48bde62",
              "IPY_MODEL_0bcfdc1a220d4430bb795fe11a2cf3aa",
              "IPY_MODEL_c8d4b732b77f44ac9f2df9b5dd9c48f0"
            ],
            "layout": "IPY_MODEL_d0d276ccdf8a446da8d89bd36743eac2"
          }
        },
        "5418bc840ef5433fbe05cf6cf48bde62": {
          "model_module": "@jupyter-widgets/controls",
          "model_name": "HTMLModel",
          "model_module_version": "1.5.0",
          "state": {
            "_dom_classes": [],
            "_model_module": "@jupyter-widgets/controls",
            "_model_module_version": "1.5.0",
            "_model_name": "HTMLModel",
            "_view_count": null,
            "_view_module": "@jupyter-widgets/controls",
            "_view_module_version": "1.5.0",
            "_view_name": "HTMLView",
            "description": "",
            "description_tooltip": null,
            "layout": "IPY_MODEL_03edecf032be42388fd045131d351ae4",
            "placeholder": "​",
            "style": "IPY_MODEL_e4757ff096dc4d5785b74b764835325a",
            "value": ""
          }
        },
        "0bcfdc1a220d4430bb795fe11a2cf3aa": {
          "model_module": "@jupyter-widgets/controls",
          "model_name": "FloatProgressModel",
          "model_module_version": "1.5.0",
          "state": {
            "_dom_classes": [],
            "_model_module": "@jupyter-widgets/controls",
            "_model_module_version": "1.5.0",
            "_model_name": "FloatProgressModel",
            "_view_count": null,
            "_view_module": "@jupyter-widgets/controls",
            "_view_module_version": "1.5.0",
            "_view_name": "ProgressView",
            "bar_style": "success",
            "description": "",
            "description_tooltip": null,
            "layout": "IPY_MODEL_aa0c7b8213a14a74a907ed90d9a32de4",
            "max": 1,
            "min": 0,
            "orientation": "horizontal",
            "style": "IPY_MODEL_35a88665f72d40d292ef088c15e7aa82",
            "value": 1
          }
        },
        "c8d4b732b77f44ac9f2df9b5dd9c48f0": {
          "model_module": "@jupyter-widgets/controls",
          "model_name": "HTMLModel",
          "model_module_version": "1.5.0",
          "state": {
            "_dom_classes": [],
            "_model_module": "@jupyter-widgets/controls",
            "_model_module_version": "1.5.0",
            "_model_name": "HTMLModel",
            "_view_count": null,
            "_view_module": "@jupyter-widgets/controls",
            "_view_module_version": "1.5.0",
            "_view_name": "HTMLView",
            "description": "",
            "description_tooltip": null,
            "layout": "IPY_MODEL_07238e4bfcf840348c8bf167c1a62882",
            "placeholder": "​",
            "style": "IPY_MODEL_cda9718b14a04b29a5d928766e2b13f0",
            "value": " 200/? [17:23&lt;00:00,  5.16s/it]"
          }
        },
        "d0d276ccdf8a446da8d89bd36743eac2": {
          "model_module": "@jupyter-widgets/base",
          "model_name": "LayoutModel",
          "model_module_version": "1.2.0",
          "state": {
            "_model_module": "@jupyter-widgets/base",
            "_model_module_version": "1.2.0",
            "_model_name": "LayoutModel",
            "_view_count": null,
            "_view_module": "@jupyter-widgets/base",
            "_view_module_version": "1.2.0",
            "_view_name": "LayoutView",
            "align_content": null,
            "align_items": null,
            "align_self": null,
            "border": null,
            "bottom": null,
            "display": null,
            "flex": null,
            "flex_flow": null,
            "grid_area": null,
            "grid_auto_columns": null,
            "grid_auto_flow": null,
            "grid_auto_rows": null,
            "grid_column": null,
            "grid_gap": null,
            "grid_row": null,
            "grid_template_areas": null,
            "grid_template_columns": null,
            "grid_template_rows": null,
            "height": null,
            "justify_content": null,
            "justify_items": null,
            "left": null,
            "margin": null,
            "max_height": null,
            "max_width": null,
            "min_height": null,
            "min_width": null,
            "object_fit": null,
            "object_position": null,
            "order": null,
            "overflow": null,
            "overflow_x": null,
            "overflow_y": null,
            "padding": null,
            "right": null,
            "top": null,
            "visibility": null,
            "width": null
          }
        },
        "03edecf032be42388fd045131d351ae4": {
          "model_module": "@jupyter-widgets/base",
          "model_name": "LayoutModel",
          "model_module_version": "1.2.0",
          "state": {
            "_model_module": "@jupyter-widgets/base",
            "_model_module_version": "1.2.0",
            "_model_name": "LayoutModel",
            "_view_count": null,
            "_view_module": "@jupyter-widgets/base",
            "_view_module_version": "1.2.0",
            "_view_name": "LayoutView",
            "align_content": null,
            "align_items": null,
            "align_self": null,
            "border": null,
            "bottom": null,
            "display": null,
            "flex": null,
            "flex_flow": null,
            "grid_area": null,
            "grid_auto_columns": null,
            "grid_auto_flow": null,
            "grid_auto_rows": null,
            "grid_column": null,
            "grid_gap": null,
            "grid_row": null,
            "grid_template_areas": null,
            "grid_template_columns": null,
            "grid_template_rows": null,
            "height": null,
            "justify_content": null,
            "justify_items": null,
            "left": null,
            "margin": null,
            "max_height": null,
            "max_width": null,
            "min_height": null,
            "min_width": null,
            "object_fit": null,
            "object_position": null,
            "order": null,
            "overflow": null,
            "overflow_x": null,
            "overflow_y": null,
            "padding": null,
            "right": null,
            "top": null,
            "visibility": null,
            "width": null
          }
        },
        "e4757ff096dc4d5785b74b764835325a": {
          "model_module": "@jupyter-widgets/controls",
          "model_name": "DescriptionStyleModel",
          "model_module_version": "1.5.0",
          "state": {
            "_model_module": "@jupyter-widgets/controls",
            "_model_module_version": "1.5.0",
            "_model_name": "DescriptionStyleModel",
            "_view_count": null,
            "_view_module": "@jupyter-widgets/base",
            "_view_module_version": "1.2.0",
            "_view_name": "StyleView",
            "description_width": ""
          }
        },
        "aa0c7b8213a14a74a907ed90d9a32de4": {
          "model_module": "@jupyter-widgets/base",
          "model_name": "LayoutModel",
          "model_module_version": "1.2.0",
          "state": {
            "_model_module": "@jupyter-widgets/base",
            "_model_module_version": "1.2.0",
            "_model_name": "LayoutModel",
            "_view_count": null,
            "_view_module": "@jupyter-widgets/base",
            "_view_module_version": "1.2.0",
            "_view_name": "LayoutView",
            "align_content": null,
            "align_items": null,
            "align_self": null,
            "border": null,
            "bottom": null,
            "display": null,
            "flex": null,
            "flex_flow": null,
            "grid_area": null,
            "grid_auto_columns": null,
            "grid_auto_flow": null,
            "grid_auto_rows": null,
            "grid_column": null,
            "grid_gap": null,
            "grid_row": null,
            "grid_template_areas": null,
            "grid_template_columns": null,
            "grid_template_rows": null,
            "height": null,
            "justify_content": null,
            "justify_items": null,
            "left": null,
            "margin": null,
            "max_height": null,
            "max_width": null,
            "min_height": null,
            "min_width": null,
            "object_fit": null,
            "object_position": null,
            "order": null,
            "overflow": null,
            "overflow_x": null,
            "overflow_y": null,
            "padding": null,
            "right": null,
            "top": null,
            "visibility": null,
            "width": "20px"
          }
        },
        "35a88665f72d40d292ef088c15e7aa82": {
          "model_module": "@jupyter-widgets/controls",
          "model_name": "ProgressStyleModel",
          "model_module_version": "1.5.0",
          "state": {
            "_model_module": "@jupyter-widgets/controls",
            "_model_module_version": "1.5.0",
            "_model_name": "ProgressStyleModel",
            "_view_count": null,
            "_view_module": "@jupyter-widgets/base",
            "_view_module_version": "1.2.0",
            "_view_name": "StyleView",
            "bar_color": null,
            "description_width": ""
          }
        },
        "07238e4bfcf840348c8bf167c1a62882": {
          "model_module": "@jupyter-widgets/base",
          "model_name": "LayoutModel",
          "model_module_version": "1.2.0",
          "state": {
            "_model_module": "@jupyter-widgets/base",
            "_model_module_version": "1.2.0",
            "_model_name": "LayoutModel",
            "_view_count": null,
            "_view_module": "@jupyter-widgets/base",
            "_view_module_version": "1.2.0",
            "_view_name": "LayoutView",
            "align_content": null,
            "align_items": null,
            "align_self": null,
            "border": null,
            "bottom": null,
            "display": null,
            "flex": null,
            "flex_flow": null,
            "grid_area": null,
            "grid_auto_columns": null,
            "grid_auto_flow": null,
            "grid_auto_rows": null,
            "grid_column": null,
            "grid_gap": null,
            "grid_row": null,
            "grid_template_areas": null,
            "grid_template_columns": null,
            "grid_template_rows": null,
            "height": null,
            "justify_content": null,
            "justify_items": null,
            "left": null,
            "margin": null,
            "max_height": null,
            "max_width": null,
            "min_height": null,
            "min_width": null,
            "object_fit": null,
            "object_position": null,
            "order": null,
            "overflow": null,
            "overflow_x": null,
            "overflow_y": null,
            "padding": null,
            "right": null,
            "top": null,
            "visibility": null,
            "width": null
          }
        },
        "cda9718b14a04b29a5d928766e2b13f0": {
          "model_module": "@jupyter-widgets/controls",
          "model_name": "DescriptionStyleModel",
          "model_module_version": "1.5.0",
          "state": {
            "_model_module": "@jupyter-widgets/controls",
            "_model_module_version": "1.5.0",
            "_model_name": "DescriptionStyleModel",
            "_view_count": null,
            "_view_module": "@jupyter-widgets/base",
            "_view_module_version": "1.2.0",
            "_view_name": "StyleView",
            "description_width": ""
          }
        }
      }
    }
  },
  "nbformat": 4,
  "nbformat_minor": 0
}