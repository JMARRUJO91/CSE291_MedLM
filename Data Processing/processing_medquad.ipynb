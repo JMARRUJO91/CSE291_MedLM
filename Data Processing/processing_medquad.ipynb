{
  "nbformat": 4,
  "nbformat_minor": 0,
  "metadata": {
    "colab": {
      "provenance": []
    },
    "kernelspec": {
      "name": "python3",
      "display_name": "Python 3"
    },
    "language_info": {
      "name": "python"
    }
  },
  "cells": [
    {
      "cell_type": "code",
      "execution_count": null,
      "metadata": {
        "colab": {
          "base_uri": "https://localhost:8080/"
        },
        "id": "vz9qgmve49gp",
        "outputId": "b0837d47-45d0-4cfe-f8e9-070f3d0b3424"
      },
      "outputs": [
        {
          "output_type": "stream",
          "name": "stdout",
          "text": [
            "Looking in indexes: https://pypi.org/simple, https://us-python.pkg.dev/colab-wheels/public/simple/\n",
            "Collecting xmltodict\n",
            "  Downloading xmltodict-0.13.0-py2.py3-none-any.whl (10.0 kB)\n",
            "Installing collected packages: xmltodict\n",
            "Successfully installed xmltodict-0.13.0\n"
          ]
        }
      ],
      "source": [
        "!pip install xmltodict"
      ]
    },
    {
      "cell_type": "code",
      "source": [
        "!pip install jsonpath"
      ],
      "metadata": {
        "colab": {
          "base_uri": "https://localhost:8080/"
        },
        "id": "_GsCO96S4_r8",
        "outputId": "566e7506-f73c-4408-b2d1-3e344913f71f"
      },
      "execution_count": null,
      "outputs": [
        {
          "output_type": "stream",
          "name": "stdout",
          "text": [
            "Looking in indexes: https://pypi.org/simple, https://us-python.pkg.dev/colab-wheels/public/simple/\n",
            "Collecting jsonpath\n",
            "  Downloading jsonpath-0.82.tar.gz (9.6 kB)\n",
            "  Preparing metadata (setup.py) ... \u001b[?25l\u001b[?25hdone\n",
            "Building wheels for collected packages: jsonpath\n",
            "  Building wheel for jsonpath (setup.py) ... \u001b[?25l\u001b[?25hdone\n",
            "  Created wheel for jsonpath: filename=jsonpath-0.82-py3-none-any.whl size=5610 sha256=0eb6034fe92ebc68b0a928b280bcab909bf1d2e9ac897d70fe6fcb40b13bce53\n",
            "  Stored in directory: /root/.cache/pip/wheels/93/9d/2f/4dcbb0d8fdc7901bba9976a8f31f29f476460de7cb27259e2b\n",
            "Successfully built jsonpath\n",
            "Installing collected packages: jsonpath\n",
            "Successfully installed jsonpath-0.82\n"
          ]
        }
      ]
    },
    {
      "cell_type": "code",
      "source": [
        "import json\n",
        "import os\n",
        "import xmltodict\n",
        "import re\n",
        "import time\n",
        "import pandas as pd\n",
        "from jsonpath import jsonpath"
      ],
      "metadata": {
        "id": "hG7BathX5CJG"
      },
      "execution_count": null,
      "outputs": []
    },
    {
      "cell_type": "code",
      "source": [
        "# Initialize a dictionary to store the data\n",
        "data = {\n",
        "    \"Questions\": [],\n",
        "    \"Answers\": [],\n",
        "    \"Focus\": []\n",
        "}\n",
        "\n",
        "# Function to process an XML file\n",
        "def processXmlFile(completePath):\n",
        "    # Open the XML file\n",
        "    with open(completePath) as f:\n",
        "        # Read the contents of the file\n",
        "        xmlstring = f.read()\n",
        "\n",
        "        try:\n",
        "            # Parse the XML string into a dictionary using xmltodict library\n",
        "            dataDict = xmltodict.parse(xmlstring, xml_attribs=False)\n",
        "            \n",
        "            # Extract the QAPair and Focus information from the dictionary\n",
        "            listOfQA = json.loads(json.dumps(jsonpath(dataDict, '$..' + \"QAPair\")[0]))\n",
        "            focus = json.loads(json.dumps(jsonpath(dataDict, '$..' + \"Focus\")[0]))\n",
        "        except Exception as e:\n",
        "            # Handle exceptions, such as empty QAPair or Focus\n",
        "            return\n",
        "\n",
        "        # Check if there is only a single QA pair, and convert it to a list if needed\n",
        "        if isinstance(listOfQA, dict):\n",
        "            listOfQA = [listOfQA]\n",
        "        \n",
        "        # Process each QA pair\n",
        "        for qaPair in listOfQA:\n",
        "            try:\n",
        "                # Clean up the answer text\n",
        "                x = re.sub(' +', ' ', qaPair['Answer'])\n",
        "                x = re.sub('Key Points', \"\", x)\n",
        "                x = x.replace(\"\\n\", \"\").replace(\"-\", \"\")\n",
        "                \n",
        "                # Append the processed data to the data dictionary\n",
        "                data['Answers'].append(x)\n",
        "                data['Questions'].append(qaPair['Question'])\n",
        "                data['Focus'].append(focus)\n",
        "            except:\n",
        "                # Handle any exceptions that occur during processing\n",
        "                return"
      ],
      "metadata": {
        "id": "eQWTg6jp5E5j"
      },
      "execution_count": null,
      "outputs": []
    },
    {
      "cell_type": "code",
      "source": [
        "# List of folders with empty answers\n",
        "foldersWithEmptyAnswers = [\n",
        "    \"10_MPlus_ADAM_QA\",\n",
        "    \"11_MPlusDrugs_QA\",\n",
        "    \"12_MPlusHerbsSupplements_QA\",\n",
        "    \"readme.txt\",  # As it does not contain any QAs\n",
        "    \"QA-TestSet-LiveQA-Med-Qrels-2479-Answers.zip\",  # Will use it later,\n",
        "    \"ProcessedData.csv\"\n",
        "]\n",
        "\n",
        "# Base path for the folders\n",
        "BASE_PATH = \"/content/drive/MyDrive/MedQuAD-master\"\n",
        "\n",
        "# Iterate over the folders in the base path\n",
        "for folder in os.listdir(BASE_PATH):\n",
        "    # Check if the folder is in the list of folders with empty answers\n",
        "    if folder in foldersWithEmptyAnswers:\n",
        "        # If the folder is in the list, skip it and continue with the next folder\n",
        "        continue\n",
        "    else:\n",
        "        # If the folder is not in the list, process it\n",
        "        print(\"Processing folder:\", folder)\n",
        "        start = time.time()\n",
        "\n",
        "        # Iterate over the XML files in the current folder\n",
        "        for xmlFileName in os.listdir(os.path.join(BASE_PATH, folder)):\n",
        "            completePath = os.path.join(BASE_PATH, folder, xmlFileName)\n",
        "            \n",
        "            # Process the XML file\n",
        "            processXmlFile(completePath)\n",
        "\n",
        "        print(\"Took\", time.time() - start)"
      ],
      "metadata": {
        "id": "G-iGaSrm5Iop",
        "colab": {
          "base_uri": "https://localhost:8080/"
        },
        "outputId": "5239dcfd-c629-48ef-c97d-ef3a669f4d4b"
      },
      "execution_count": null,
      "outputs": [
        {
          "output_type": "stream",
          "name": "stdout",
          "text": [
            "Processing folder: 2_GARD_QA\n",
            "Took 37.40929365158081\n",
            "Processing folder: 7_SeniorHealth_QA\n",
            "Took 0.0029649734497070312\n",
            "Processing folder: 5_NIDDK_QA\n",
            "Took 0.0028579235076904297\n",
            "Processing folder: 6_NINDS_QA\n",
            "Took 0.0016994476318359375\n",
            "Processing folder: 4_MPlus_Health_Topics_QA\n",
            "Took 0.0016057491302490234\n",
            "Processing folder: 3_GHR_QA\n",
            "Took 0.0015909671783447266\n",
            "Processing folder: 1_CancerGov_QA\n",
            "Took 1.5483970642089844\n",
            "Processing folder: 8_NHLBI_QA_XML\n",
            "Took 0.0019779205322265625\n",
            "Processing folder: 9_CDC_QA\n",
            "Took 0.0012118816375732422\n"
          ]
        }
      ]
    },
    {
      "cell_type": "code",
      "source": [
        "df = pd.DataFrame(data)\n",
        "df.head()"
      ],
      "metadata": {
        "id": "OFCeI_ws5Ra-",
        "colab": {
          "base_uri": "https://localhost:8080/",
          "height": 272
        },
        "outputId": "2cb3ccd6-8f69-4b3e-9fd8-5c21e5df5dab"
      },
      "execution_count": null,
      "outputs": [
        {
          "output_type": "execute_result",
          "data": {
            "text/plain": [
              "                                 Questions  \\\n",
              "0                What is (are) Achalasia ?   \n",
              "1     What are the symptoms of Achalasia ?   \n",
              "2                  What causes Achalasia ?   \n",
              "3              How to diagnose Achalasia ?   \n",
              "4  What are the treatments for Achalasia ?   \n",
              "\n",
              "                                             Answers      Focus  \n",
              "0  Achalasia is a disorder of the esophagus, the ...  Achalasia  \n",
              "1  What are the signs and symptoms of achalasia? ...  Achalasia  \n",
              "2  What causes achalasia? The lower esophageal sp...  Achalasia  \n",
              "3  How is achalasia diagnosed? Achalasia is suspe...  Achalasia  \n",
              "4  How might achalasia be treated? The aim of tre...  Achalasia  "
            ],
            "text/html": [
              "\n",
              "  <div id=\"df-c0f58c1c-4993-4952-bbdb-178f8e31a366\">\n",
              "    <div class=\"colab-df-container\">\n",
              "      <div>\n",
              "<style scoped>\n",
              "    .dataframe tbody tr th:only-of-type {\n",
              "        vertical-align: middle;\n",
              "    }\n",
              "\n",
              "    .dataframe tbody tr th {\n",
              "        vertical-align: top;\n",
              "    }\n",
              "\n",
              "    .dataframe thead th {\n",
              "        text-align: right;\n",
              "    }\n",
              "</style>\n",
              "<table border=\"1\" class=\"dataframe\">\n",
              "  <thead>\n",
              "    <tr style=\"text-align: right;\">\n",
              "      <th></th>\n",
              "      <th>Questions</th>\n",
              "      <th>Answers</th>\n",
              "      <th>Focus</th>\n",
              "    </tr>\n",
              "  </thead>\n",
              "  <tbody>\n",
              "    <tr>\n",
              "      <th>0</th>\n",
              "      <td>What is (are) Achalasia ?</td>\n",
              "      <td>Achalasia is a disorder of the esophagus, the ...</td>\n",
              "      <td>Achalasia</td>\n",
              "    </tr>\n",
              "    <tr>\n",
              "      <th>1</th>\n",
              "      <td>What are the symptoms of Achalasia ?</td>\n",
              "      <td>What are the signs and symptoms of achalasia? ...</td>\n",
              "      <td>Achalasia</td>\n",
              "    </tr>\n",
              "    <tr>\n",
              "      <th>2</th>\n",
              "      <td>What causes Achalasia ?</td>\n",
              "      <td>What causes achalasia? The lower esophageal sp...</td>\n",
              "      <td>Achalasia</td>\n",
              "    </tr>\n",
              "    <tr>\n",
              "      <th>3</th>\n",
              "      <td>How to diagnose Achalasia ?</td>\n",
              "      <td>How is achalasia diagnosed? Achalasia is suspe...</td>\n",
              "      <td>Achalasia</td>\n",
              "    </tr>\n",
              "    <tr>\n",
              "      <th>4</th>\n",
              "      <td>What are the treatments for Achalasia ?</td>\n",
              "      <td>How might achalasia be treated? The aim of tre...</td>\n",
              "      <td>Achalasia</td>\n",
              "    </tr>\n",
              "  </tbody>\n",
              "</table>\n",
              "</div>\n",
              "      <button class=\"colab-df-convert\" onclick=\"convertToInteractive('df-c0f58c1c-4993-4952-bbdb-178f8e31a366')\"\n",
              "              title=\"Convert this dataframe to an interactive table.\"\n",
              "              style=\"display:none;\">\n",
              "        \n",
              "  <svg xmlns=\"http://www.w3.org/2000/svg\" height=\"24px\"viewBox=\"0 0 24 24\"\n",
              "       width=\"24px\">\n",
              "    <path d=\"M0 0h24v24H0V0z\" fill=\"none\"/>\n",
              "    <path d=\"M18.56 5.44l.94 2.06.94-2.06 2.06-.94-2.06-.94-.94-2.06-.94 2.06-2.06.94zm-11 1L8.5 8.5l.94-2.06 2.06-.94-2.06-.94L8.5 2.5l-.94 2.06-2.06.94zm10 10l.94 2.06.94-2.06 2.06-.94-2.06-.94-.94-2.06-.94 2.06-2.06.94z\"/><path d=\"M17.41 7.96l-1.37-1.37c-.4-.4-.92-.59-1.43-.59-.52 0-1.04.2-1.43.59L10.3 9.45l-7.72 7.72c-.78.78-.78 2.05 0 2.83L4 21.41c.39.39.9.59 1.41.59.51 0 1.02-.2 1.41-.59l7.78-7.78 2.81-2.81c.8-.78.8-2.07 0-2.86zM5.41 20L4 18.59l7.72-7.72 1.47 1.35L5.41 20z\"/>\n",
              "  </svg>\n",
              "      </button>\n",
              "      \n",
              "  <style>\n",
              "    .colab-df-container {\n",
              "      display:flex;\n",
              "      flex-wrap:wrap;\n",
              "      gap: 12px;\n",
              "    }\n",
              "\n",
              "    .colab-df-convert {\n",
              "      background-color: #E8F0FE;\n",
              "      border: none;\n",
              "      border-radius: 50%;\n",
              "      cursor: pointer;\n",
              "      display: none;\n",
              "      fill: #1967D2;\n",
              "      height: 32px;\n",
              "      padding: 0 0 0 0;\n",
              "      width: 32px;\n",
              "    }\n",
              "\n",
              "    .colab-df-convert:hover {\n",
              "      background-color: #E2EBFA;\n",
              "      box-shadow: 0px 1px 2px rgba(60, 64, 67, 0.3), 0px 1px 3px 1px rgba(60, 64, 67, 0.15);\n",
              "      fill: #174EA6;\n",
              "    }\n",
              "\n",
              "    [theme=dark] .colab-df-convert {\n",
              "      background-color: #3B4455;\n",
              "      fill: #D2E3FC;\n",
              "    }\n",
              "\n",
              "    [theme=dark] .colab-df-convert:hover {\n",
              "      background-color: #434B5C;\n",
              "      box-shadow: 0px 1px 3px 1px rgba(0, 0, 0, 0.15);\n",
              "      filter: drop-shadow(0px 1px 2px rgba(0, 0, 0, 0.3));\n",
              "      fill: #FFFFFF;\n",
              "    }\n",
              "  </style>\n",
              "\n",
              "      <script>\n",
              "        const buttonEl =\n",
              "          document.querySelector('#df-c0f58c1c-4993-4952-bbdb-178f8e31a366 button.colab-df-convert');\n",
              "        buttonEl.style.display =\n",
              "          google.colab.kernel.accessAllowed ? 'block' : 'none';\n",
              "\n",
              "        async function convertToInteractive(key) {\n",
              "          const element = document.querySelector('#df-c0f58c1c-4993-4952-bbdb-178f8e31a366');\n",
              "          const dataTable =\n",
              "            await google.colab.kernel.invokeFunction('convertToInteractive',\n",
              "                                                     [key], {});\n",
              "          if (!dataTable) return;\n",
              "\n",
              "          const docLinkHtml = 'Like what you see? Visit the ' +\n",
              "            '<a target=\"_blank\" href=https://colab.research.google.com/notebooks/data_table.ipynb>data table notebook</a>'\n",
              "            + ' to learn more about interactive tables.';\n",
              "          element.innerHTML = '';\n",
              "          dataTable['output_type'] = 'display_data';\n",
              "          await google.colab.output.renderOutput(dataTable, element);\n",
              "          const docLink = document.createElement('div');\n",
              "          docLink.innerHTML = docLinkHtml;\n",
              "          element.appendChild(docLink);\n",
              "        }\n",
              "      </script>\n",
              "    </div>\n",
              "  </div>\n",
              "  "
            ]
          },
          "metadata": {},
          "execution_count": 31
        }
      ]
    },
    {
      "cell_type": "code",
      "source": [],
      "metadata": {
        "id": "Pf8fip_v-Ptl"
      },
      "execution_count": null,
      "outputs": []
    }
  ]
}