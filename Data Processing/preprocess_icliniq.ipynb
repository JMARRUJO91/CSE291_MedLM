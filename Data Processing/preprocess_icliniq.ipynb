{
  "nbformat": 4,
  "nbformat_minor": 0,
  "metadata": {
    "colab": {
      "provenance": []
    },
    "kernelspec": {
      "name": "python3",
      "display_name": "Python 3"
    },
    "language_info": {
      "name": "python"
    }
  },
  "cells": [
    {
      "cell_type": "code",
      "source": [
        "import json"
      ],
      "metadata": {
        "id": "m2Y3IdcpIZhn"
      },
      "execution_count": 4,
      "outputs": []
    },
    {
      "cell_type": "code",
      "execution_count": null,
      "metadata": {
        "colab": {
          "base_uri": "https://localhost:8080/"
        },
        "id": "RmIUaHidHPLS",
        "outputId": "0f461cd5-de60-4e15-bb2a-6d4d163f87bf"
      },
      "outputs": [
        {
          "output_type": "stream",
          "name": "stdout",
          "text": [
            "                                                Question  \\\n",
            "0      my 5 1/2-year-old son displays adhd symptoms f...   \n",
            "1      my son has add and mild autism. he has been su...   \n",
            "2      my son is 13 and is depressed. he has been tak...   \n",
            "3      my 17-year-old has stopped taking concerta aft...   \n",
            "4      i've been taking respa-ar for allergies. i can...   \n",
            "...                                                  ...   \n",
            "29747                     pain in legs – varicose veins?   \n",
            "29748  headaches really tired all the time feeling na...   \n",
            "29749  46 year old male had stroke on right side of b...   \n",
            "29750  46 year old male had stroke on right side of b...   \n",
            "29751  46 year old male had stroke on right side of b...   \n",
            "\n",
            "                                                  Answer  \n",
            "0      adhd and bipolar mood disorder (bmd) can coexi...  \n",
            "1      stimulants in general tend to decrease appetit...  \n",
            "2      while any of the stimulant medications can inc...  \n",
            "3      seventy percent of teens diagnosed when they a...  \n",
            "4      try claritin-d which is located behind the pha...  \n",
            "...                                                  ...  \n",
            "29747  get it confirmed by doing venous doppler of bo...  \n",
            "29748  hi dear. there are very less chances of pregna...  \n",
            "29749  i’m a radiologist. may be an mri misread. when...  \n",
            "29750  could be reaction to oxycodone…. ”the most fre...  \n",
            "29751  dont think this is another stroke. dont worry....  \n",
            "\n",
            "[29752 rows x 2 columns]\n"
          ]
        }
      ],
      "source": [
        "import json\n",
        "import pandas as pd\n",
        "import glob\n",
        "\n",
        "# Specify the path to your JSON files\n",
        "file_pattern = '*.json'\n",
        "\n",
        "# Create empty lists to store the questions and answers\n",
        "questions = []\n",
        "answers = []\n",
        "\n",
        "# Iterate over the JSON files\n",
        "for file_path in glob.glob(file_pattern):\n",
        "    with open(file_path, 'r') as json_file:\n",
        "        data = json.load(json_file)\n",
        "    \n",
        "    for item in data:\n",
        "        question = item['question']\n",
        "        answer = item['answer']\n",
        "        \n",
        "        questions.append(question)\n",
        "        answers.append(answer)\n",
        "\n",
        "# Create a DataFrame using the lists of questions and answers\n",
        "df = pd.DataFrame({'Question': questions, 'Answer': answers})\n",
        "\n",
        "# Print the DataFrame\n",
        "print(df)"
      ]
    },
    {
      "cell_type": "code",
      "source": [
        "df.head()"
      ],
      "metadata": {
        "colab": {
          "base_uri": "https://localhost:8080/",
          "height": 228
        },
        "id": "OHwCBNLNIh6w",
        "outputId": "93d7dec2-3cd3-4f56-bb2a-aa858d162221"
      },
      "execution_count": null,
      "outputs": [
        {
          "output_type": "execute_result",
          "data": {
            "text/plain": [
              "                                            Question  \\\n",
              "0  my 5 1/2-year-old son displays adhd symptoms f...   \n",
              "1  my son has add and mild autism. he has been su...   \n",
              "2  my son is 13 and is depressed. he has been tak...   \n",
              "3  my 17-year-old has stopped taking concerta aft...   \n",
              "4  i've been taking respa-ar for allergies. i can...   \n",
              "\n",
              "                                              Answer  \n",
              "0  adhd and bipolar mood disorder (bmd) can coexi...  \n",
              "1  stimulants in general tend to decrease appetit...  \n",
              "2  while any of the stimulant medications can inc...  \n",
              "3  seventy percent of teens diagnosed when they a...  \n",
              "4  try claritin-d which is located behind the pha...  "
            ],
            "text/html": [
              "\n",
              "  <div id=\"df-724b2c80-d223-4dd6-b43c-02b1ff87ea11\">\n",
              "    <div class=\"colab-df-container\">\n",
              "      <div>\n",
              "<style scoped>\n",
              "    .dataframe tbody tr th:only-of-type {\n",
              "        vertical-align: middle;\n",
              "    }\n",
              "\n",
              "    .dataframe tbody tr th {\n",
              "        vertical-align: top;\n",
              "    }\n",
              "\n",
              "    .dataframe thead th {\n",
              "        text-align: right;\n",
              "    }\n",
              "</style>\n",
              "<table border=\"1\" class=\"dataframe\">\n",
              "  <thead>\n",
              "    <tr style=\"text-align: right;\">\n",
              "      <th></th>\n",
              "      <th>Question</th>\n",
              "      <th>Answer</th>\n",
              "    </tr>\n",
              "  </thead>\n",
              "  <tbody>\n",
              "    <tr>\n",
              "      <th>0</th>\n",
              "      <td>my 5 1/2-year-old son displays adhd symptoms f...</td>\n",
              "      <td>adhd and bipolar mood disorder (bmd) can coexi...</td>\n",
              "    </tr>\n",
              "    <tr>\n",
              "      <th>1</th>\n",
              "      <td>my son has add and mild autism. he has been su...</td>\n",
              "      <td>stimulants in general tend to decrease appetit...</td>\n",
              "    </tr>\n",
              "    <tr>\n",
              "      <th>2</th>\n",
              "      <td>my son is 13 and is depressed. he has been tak...</td>\n",
              "      <td>while any of the stimulant medications can inc...</td>\n",
              "    </tr>\n",
              "    <tr>\n",
              "      <th>3</th>\n",
              "      <td>my 17-year-old has stopped taking concerta aft...</td>\n",
              "      <td>seventy percent of teens diagnosed when they a...</td>\n",
              "    </tr>\n",
              "    <tr>\n",
              "      <th>4</th>\n",
              "      <td>i've been taking respa-ar for allergies. i can...</td>\n",
              "      <td>try claritin-d which is located behind the pha...</td>\n",
              "    </tr>\n",
              "  </tbody>\n",
              "</table>\n",
              "</div>\n",
              "      <button class=\"colab-df-convert\" onclick=\"convertToInteractive('df-724b2c80-d223-4dd6-b43c-02b1ff87ea11')\"\n",
              "              title=\"Convert this dataframe to an interactive table.\"\n",
              "              style=\"display:none;\">\n",
              "        \n",
              "  <svg xmlns=\"http://www.w3.org/2000/svg\" height=\"24px\"viewBox=\"0 0 24 24\"\n",
              "       width=\"24px\">\n",
              "    <path d=\"M0 0h24v24H0V0z\" fill=\"none\"/>\n",
              "    <path d=\"M18.56 5.44l.94 2.06.94-2.06 2.06-.94-2.06-.94-.94-2.06-.94 2.06-2.06.94zm-11 1L8.5 8.5l.94-2.06 2.06-.94-2.06-.94L8.5 2.5l-.94 2.06-2.06.94zm10 10l.94 2.06.94-2.06 2.06-.94-2.06-.94-.94-2.06-.94 2.06-2.06.94z\"/><path d=\"M17.41 7.96l-1.37-1.37c-.4-.4-.92-.59-1.43-.59-.52 0-1.04.2-1.43.59L10.3 9.45l-7.72 7.72c-.78.78-.78 2.05 0 2.83L4 21.41c.39.39.9.59 1.41.59.51 0 1.02-.2 1.41-.59l7.78-7.78 2.81-2.81c.8-.78.8-2.07 0-2.86zM5.41 20L4 18.59l7.72-7.72 1.47 1.35L5.41 20z\"/>\n",
              "  </svg>\n",
              "      </button>\n",
              "      \n",
              "  <style>\n",
              "    .colab-df-container {\n",
              "      display:flex;\n",
              "      flex-wrap:wrap;\n",
              "      gap: 12px;\n",
              "    }\n",
              "\n",
              "    .colab-df-convert {\n",
              "      background-color: #E8F0FE;\n",
              "      border: none;\n",
              "      border-radius: 50%;\n",
              "      cursor: pointer;\n",
              "      display: none;\n",
              "      fill: #1967D2;\n",
              "      height: 32px;\n",
              "      padding: 0 0 0 0;\n",
              "      width: 32px;\n",
              "    }\n",
              "\n",
              "    .colab-df-convert:hover {\n",
              "      background-color: #E2EBFA;\n",
              "      box-shadow: 0px 1px 2px rgba(60, 64, 67, 0.3), 0px 1px 3px 1px rgba(60, 64, 67, 0.15);\n",
              "      fill: #174EA6;\n",
              "    }\n",
              "\n",
              "    [theme=dark] .colab-df-convert {\n",
              "      background-color: #3B4455;\n",
              "      fill: #D2E3FC;\n",
              "    }\n",
              "\n",
              "    [theme=dark] .colab-df-convert:hover {\n",
              "      background-color: #434B5C;\n",
              "      box-shadow: 0px 1px 3px 1px rgba(0, 0, 0, 0.15);\n",
              "      filter: drop-shadow(0px 1px 2px rgba(0, 0, 0, 0.3));\n",
              "      fill: #FFFFFF;\n",
              "    }\n",
              "  </style>\n",
              "\n",
              "      <script>\n",
              "        const buttonEl =\n",
              "          document.querySelector('#df-724b2c80-d223-4dd6-b43c-02b1ff87ea11 button.colab-df-convert');\n",
              "        buttonEl.style.display =\n",
              "          google.colab.kernel.accessAllowed ? 'block' : 'none';\n",
              "\n",
              "        async function convertToInteractive(key) {\n",
              "          const element = document.querySelector('#df-724b2c80-d223-4dd6-b43c-02b1ff87ea11');\n",
              "          const dataTable =\n",
              "            await google.colab.kernel.invokeFunction('convertToInteractive',\n",
              "                                                     [key], {});\n",
              "          if (!dataTable) return;\n",
              "\n",
              "          const docLinkHtml = 'Like what you see? Visit the ' +\n",
              "            '<a target=\"_blank\" href=https://colab.research.google.com/notebooks/data_table.ipynb>data table notebook</a>'\n",
              "            + ' to learn more about interactive tables.';\n",
              "          element.innerHTML = '';\n",
              "          dataTable['output_type'] = 'display_data';\n",
              "          await google.colab.output.renderOutput(dataTable, element);\n",
              "          const docLink = document.createElement('div');\n",
              "          docLink.innerHTML = docLinkHtml;\n",
              "          element.appendChild(docLink);\n",
              "        }\n",
              "      </script>\n",
              "    </div>\n",
              "  </div>\n",
              "  "
            ]
          },
          "metadata": {},
          "execution_count": 10
        }
      ]
    },
    {
      "cell_type": "code",
      "source": [
        "df.reset_index(drop=True, inplace=True)\n",
        "\n",
        "# Save the DataFrame as a CSV file\n",
        "df.to_csv('dataset2.csv')"
      ],
      "metadata": {
        "id": "N7nFLRvFIx1U"
      },
      "execution_count": null,
      "outputs": []
    },
    {
      "cell_type": "markdown",
      "source": [
        "### Get statistics on the dataset"
      ],
      "metadata": {
        "id": "Lm_QtANFh9R8"
      }
    },
    {
      "cell_type": "code",
      "source": [
        "import pandas as pd\n",
        "import nltk\n",
        "from nltk.tokenize import word_tokenize\n",
        "\n",
        "# Download the required resources for tokenization\n",
        "nltk.download('punkt')\n",
        "\n",
        "# Assuming you have already loaded the DataFrame from CSV or other sources\n",
        "\n",
        "# Function to count the number of words/tokens in a text\n",
        "def count_words(text):\n",
        "    tokens = word_tokenize(text)  # Tokenize the text into words\n",
        "    return len(tokens)\n",
        "\n",
        "# Apply the count_words function to each answer in the DataFrame\n",
        "df['Word Count'] = df['Answer'].apply(lambda x: count_words(str(x)))\n",
        "\n",
        "# Calculate the maximum, minimum, mean, and median word counts\n",
        "max_word_count = df['Word Count'].max()\n",
        "min_word_count = df['Word Count'].min()\n",
        "mean_word_count = df['Word Count'].mean()\n",
        "median_word_count = df['Word Count'].median()\n",
        "\n",
        "# Print the results\n",
        "print(\"Maximum Word Count:\", max_word_count)\n",
        "print(\"Minimum Word Count:\", min_word_count)\n",
        "print(\"Mean Word Count:\", mean_word_count)\n",
        "print(\"Median Word Count:\", median_word_count)\n"
      ],
      "metadata": {
        "colab": {
          "base_uri": "https://localhost:8080/"
        },
        "id": "nyVChw2BNZro",
        "outputId": "db53b20a-1415-4faf-e17d-865193f48bbe"
      },
      "execution_count": null,
      "outputs": [
        {
          "output_type": "stream",
          "name": "stderr",
          "text": [
            "[nltk_data] Downloading package punkt to /root/nltk_data...\n",
            "[nltk_data]   Unzipping tokenizers/punkt.zip.\n"
          ]
        },
        {
          "output_type": "stream",
          "name": "stdout",
          "text": [
            "Maximum Word Count: 1417\n",
            "Minimum Word Count: 1\n",
            "Mean Word Count: 99.43059290131755\n",
            "Median Word Count: 65.0\n"
          ]
        }
      ]
    },
    {
      "cell_type": "code",
      "source": [],
      "metadata": {
        "id": "YQ0i0l4LNkOZ"
      },
      "execution_count": null,
      "outputs": []
    }
  ]
}